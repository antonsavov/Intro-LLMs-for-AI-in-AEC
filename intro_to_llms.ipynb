{
 "cells": [
  {
   "cell_type": "markdown",
   "metadata": {},
   "source": [
    "# Basic Applications of Large-Language Models\n",
    "\n",
    "Tutorial for [Design++](https://designplusplus.ethz.ch)'s [AI in AEC Summer School: 2024](https://designplusplus.ethz.ch/education/summer-school.html) at ETH Zurich.\n",
    "\n",
    "This tutorial provides an introduction of using Large Language Models (LLMs), particularly OpenAI’s models, for various tasks. It covers topics such as embeddings, text generation, as well as more advanced concepts like retrieval-augmented generation (RAG), function calling, and agent-based tools. The tutorial also demonstrates how to interact with visual data, handle text summarization, and manage conversation history in chatbots. The overall goal is to equip users with the initial skills to effectively leverage LLMs in their workflows, particularly in architecture and related fields.\n",
    "\n",
    "The tutorial uses Langchain and OpenAI API.\n",
    "\n",
    "## Contents\n",
    "\n",
    "1. LLMs\n",
    "2. Tokens\n",
    "3. Embeddings\n",
    "4. Text Generation\n",
    "5. Structured Output\n",
    "6. Vision\n",
    "7. Text Summarization\n",
    "8. RAG basics\n",
    "9. Tools and Agents\n"
   ]
  },
  {
   "cell_type": "markdown",
   "metadata": {},
   "source": [
    "## 1. Large Language Models (LLMs)\n",
    "\n",
    "In this tutorial we will use OpenAI models. Below are other popular LLMs for comparison.\n",
    "MMLU (Massive Multitask Language Understanding) is a benchmark used to evaluate LLMs’ performance across 57 diverse subjects to assess their general knowledge and reasoning abilities.\n",
    "\n",
    "| Name                            | Creator    | Open   | MMLU | Context Window Tokens |\n",
    "| ------------------------------- | ---------- | ------ | ---- | --------------------- |\n",
    "| gpt-4o                          | OpenAI     | Closed | 88.7 | 128K (93 pages)       |\n",
    "| gpt-4o-mini                     | OpenAI     | Closed | 82   | 128K (93 pages)       |\n",
    "| Gemini 1.5 Ultra                | Google     | Closed | 90   | 1M (749 pages)        |\n",
    "| Gemini 1.5 Pro                  | Google     | Closed | 85.9 | 1M (749 pages)        |\n",
    "| Gemini 1.5 Flash                | Google     | Closed | 78.9 | ?                     |\n",
    "| Gemini 1.5 Nano                 | Google     | Closed | 72.8 | ?                     |\n",
    "| Claude 3 Opus                   | Anthropic  | Closed | 88.2 | 200K (146 pages)      |\n",
    "| Claude 3 Haiku                  | Anthropic  | Closed | 76.7 | 200K (146 pages)      |\n",
    "| Llama 3.1 405B                  | Meta       | Open   | 87.3 | 512K (374 pages)      |\n",
    "| Llama 3.1 70B                   | Meta       | Open   | 80.9 | 256K (187 pages)      |\n",
    "| Llama 3.1 8B                    | Meta       | Open   | 73.0 | 128K (94 pages)       |\n",
    "| Mistral 7B                      | Mistral.AI | Open   | 60.1 | 32K (23 pages)        |\n",
    "| Mistral 7B                      | Mistral.AI | Open   | 60.1 | 32K (23 pages)        |\n",
    "| Unspecialized human<sup>1</sup> | -          | -      | 34.5 | -                     |\n",
    "| Expert-level human<sup>1</sup>  | -          | -      | 89.8 | -                     |\n",
    "\n",
    "Table from: [Jeff Heaton's Foundation Models Examples](https://github.com/jeffheaton/app_generative_ai/blob/main/t81_559_class_03_1_llm.ipynb)\n",
    "\n",
    "1 - I added the two rows for human results from the [MMLU paper](https://paperswithcode.com/paper/measuring-massive-multitask-language)\n"
   ]
  },
  {
   "cell_type": "code",
   "execution_count": 1,
   "metadata": {},
   "outputs": [],
   "source": [
    "# for most tests and learning \"gpt-4o-mini\" is smart enough. and fast.\n",
    "# for more 'intelligence' use \"gpt-4o\" which is 30x more expensive\n",
    "# check models and prices at https://openai.com/api/pricing/\n",
    "\n",
    "MODEL = \"gpt-4o-mini\""
   ]
  },
  {
   "cell_type": "markdown",
   "metadata": {},
   "source": [
    "## 2. Tokens\n",
    "\n",
    "- Learn what tokens are.\n",
    "\n",
    "Go to: https://platform.openai.com/tokenizer\n",
    "\n",
    "Press: Show Example\n"
   ]
  },
  {
   "cell_type": "code",
   "execution_count": 2,
   "metadata": {},
   "outputs": [
    {
     "name": "stdout",
     "output_type": "stream",
     "text": [
      "[15834, 290, 1957, 328, 21087, 2715, 14818, 9861, 42549, 1511, 29293, 14818, 20312, 0]\n",
      "[(15834, b\"It's\"), (290, b' the'), (1957, b' art'), (328, b' of'), (21087, b' turning'), (2715, b' really'), (14818, b' expensive'), (9861, b' blue'), (42549, b'prints'), (1511, b' into'), (29293, b' equally'), (14818, b' expensive'), (20312, b' buildings'), (0, b'!')]\n",
      "Token count: 14\n"
     ]
    }
   ],
   "source": [
    "import tiktoken\n",
    "\n",
    "encoding = tiktoken.encoding_for_model(MODEL)\n",
    "\n",
    "sample_text = \"Architecture is the art of convincing people that walls are more than just barriers!\"\n",
    "sample_text = \"It's the art of turning really expensive blueprints into equally expensive buildings!\"\n",
    "\n",
    "tokens = encoding.encode(sample_text)\n",
    "print(tokens)\n",
    "decoded_tokens = [encoding.decode_single_token_bytes(token) for token in tokens]\n",
    "\n",
    "print([(i, t) for i, t in zip(tokens, decoded_tokens)])\n",
    "\n",
    "token_count = len(tokens)\n",
    "print(f\"Token count: {token_count}\")"
   ]
  },
  {
   "cell_type": "markdown",
   "metadata": {},
   "source": [
    "Further Resources:\n",
    "\n",
    "https://github.com/openai/openai-cookbook/blob/main/examples/How_to_count_tokens_with_tiktoken.ipynb\n",
    "\n",
    "https://python.langchain.com/v0.2/docs/how_to/split_by_token/\n"
   ]
  },
  {
   "cell_type": "markdown",
   "metadata": {},
   "source": [
    "## 3. Embeddings\n",
    "\n",
    "- Learn what text embeddings are.\n",
    "- Learn how to compare two pieces of text for similarity in meaning.\n"
   ]
  },
  {
   "cell_type": "code",
   "execution_count": 3,
   "metadata": {},
   "outputs": [],
   "source": [
    "# get the openai api key from the user and set it as an environment variable\n",
    "import getpass\n",
    "import os\n",
    "\n",
    "os.environ[\"OPENAI_API_KEY\"] = getpass.getpass()"
   ]
  },
  {
   "cell_type": "code",
   "execution_count": 4,
   "metadata": {},
   "outputs": [],
   "source": [
    "from langchain_openai import OpenAIEmbeddings\n",
    "\n",
    "embeddings_model = OpenAIEmbeddings(model=\"text-embedding-3-small\")"
   ]
  },
  {
   "cell_type": "code",
   "execution_count": 5,
   "metadata": {},
   "outputs": [],
   "source": [
    "# embeddings are vectors which in this case have 1536 dimensions\n",
    "emb1 = embeddings_model.embed_query(\"window\")\n",
    "emb2 = embeddings_model.embed_query(\n",
    "    \"a glazed opening in an external wall of a building\"\n",
    ")\n",
    "emb3 = embeddings_model.embed_query(\"a computer program that runs in the background\")"
   ]
  },
  {
   "cell_type": "code",
   "execution_count": 6,
   "metadata": {},
   "outputs": [
    {
     "name": "stdout",
     "output_type": "stream",
     "text": [
      "1536\n",
      "1536\n"
     ]
    }
   ],
   "source": [
    "print(len(emb1))\n",
    "print(len(emb2))"
   ]
  },
  {
   "cell_type": "code",
   "execution_count": 7,
   "metadata": {},
   "outputs": [
    {
     "name": "stdout",
     "output_type": "stream",
     "text": [
      "[-0.031054412946105003, 0.022706881165504456, 0.004479001741856337, 0.039282504469156265, -0.037716515362262726, -0.03697333112359047, 0.03623014688491821, -0.009940066374838352, -0.019083864986896515, 0.03853932395577431]\n"
     ]
    }
   ],
   "source": [
    "print(emb1[:10])"
   ]
  },
  {
   "cell_type": "code",
   "execution_count": 8,
   "metadata": {},
   "outputs": [
    {
     "name": "stdout",
     "output_type": "stream",
     "text": [
      "0.47099976169735136\n",
      "0.13618204769042264\n"
     ]
    }
   ],
   "source": [
    "import numpy as np\n",
    "\n",
    "# compare similarity\n",
    "# larger values indicate more similarity\n",
    "similarity_1 = np.dot(emb1, emb2)\n",
    "print(similarity_1)\n",
    "similarity_2 = np.dot(emb2, emb3)\n",
    "print(similarity_2)"
   ]
  },
  {
   "cell_type": "markdown",
   "metadata": {},
   "source": [
    "## 4. Text Generation\n",
    "\n",
    "### 4.1. Basic text generation\n",
    "\n",
    "- Learn how to create a chain from a specific LLM and an simple output parser.\n",
    "- Learn the concept of system and user messages.\n",
    "- Learn about the effect 'Temperature' has on the output.\n",
    "\n",
    "For info on temperature check the [Open AI docs](https://platform.openai.com/docs/guides/text-generation/how-should-i-set-the-temperature-parameter).\n"
   ]
  },
  {
   "cell_type": "code",
   "execution_count": 9,
   "metadata": {},
   "outputs": [],
   "source": [
    "from IPython.display import display_markdown\n",
    "from langchain_core.messages import HumanMessage, SystemMessage\n",
    "from langchain_core.output_parsers import StrOutputParser\n",
    "from langchain_openai import ChatOpenAI\n",
    "\n",
    "# openai model\n",
    "model = ChatOpenAI(model=MODEL)\n",
    "\n",
    "# string output parser\n",
    "parser = StrOutputParser()\n",
    "\n",
    "# make a chain from the model and the parser\n",
    "chain = model | parser"
   ]
  },
  {
   "cell_type": "code",
   "execution_count": 11,
   "metadata": {},
   "outputs": [
    {
     "data": {
      "text/markdown": [
       "Architecture is the art and science of designing and constructing buildings and other physical structures. It encompasses a wide range of activities, including planning, designing, and overseeing the construction process. Architecture involves understanding various factors such as functionality, aesthetics, safety, sustainability, and the relationship between a structure and its environment.\n",
       "\n",
       "Key aspects of architecture include:\n",
       "\n",
       "1. **Design**: Creating plans and drawings that outline the appearance and layout of structures. This involves considerations of space, form, proportion, and materials.\n",
       "\n",
       "2. **Functionality**: Ensuring that buildings are practical and meet the needs of their occupants. This includes considerations of how spaces are used, accessibility, and flow.\n",
       "\n",
       "3. **Aesthetics**: Focusing on the visual appeal of a structure. This includes style, color, texture, and how a building fits into its surroundings.\n",
       "\n",
       "4. **Sustainability**: Incorporating environmentally friendly practices and materials, energy efficiency, and minimizing the ecological impact of buildings.\n",
       "\n",
       "5. **Cultural Context**: Reflecting the values, traditions, and identity of a community or society. Architecture often embodies historical and cultural significance.\n",
       "\n",
       "6. **Technical Knowledge**: Applying engineering principles and building codes to ensure safety, stability, and compliance with regulations.\n",
       "\n",
       "7. **Collaboration**: Working with various stakeholders, including clients, engineers, urban planners, and construction teams, to bring a project to fruition.\n",
       "\n",
       "Architecture can be seen in various forms, from residential homes to commercial buildings, public spaces, and urban planning. It influences and shapes the environments in which we live, work, and interact, making it a vital aspect of human civilization."
      ]
     },
     "metadata": {},
     "output_type": "display_data"
    }
   ],
   "source": [
    "messages = [\n",
    "    HumanMessage(content=\"What is architecture?\"),\n",
    "]\n",
    "result = chain.invoke(messages)\n",
    "# print(result)\n",
    "display_markdown(result, raw=True)"
   ]
  },
  {
   "cell_type": "code",
   "execution_count": 12,
   "metadata": {},
   "outputs": [
    {
     "data": {
      "text/markdown": [
       "Architecture is the art and science of designing and constructing buildings and other physical structures, balancing functionality, aesthetics, and environmental considerations."
      ]
     },
     "metadata": {},
     "output_type": "display_data"
    }
   ],
   "source": [
    "messages = [\n",
    "    HumanMessage(content=\"What is architecture? In one sentence!\"),\n",
    "]\n",
    "result = chain.invoke(messages)\n",
    "display_markdown(result, raw=True)"
   ]
  },
  {
   "cell_type": "code",
   "execution_count": 16,
   "metadata": {},
   "outputs": [
    {
     "name": "stdout",
     "output_type": "stream",
     "text": [
      "run 1: Architecture is the art and science of designing and shaping  spaces, structures, and environments to enhance functionality and aesthetic appeal.\n",
      "run 2: Architecture is the art and science of designing and constructing buildings and other physical structures, balancing elements of functionality, aesthetics, and environment.\n",
      "run 3: Architecture is the art and science of designing and constructing buildings and spaces that harmonize with functionality, aesthetics, and the environment.\n",
      "run 4: Architecture is the art and science of designing and constructing manageable environments to meet human needs while fostering creativity, functionality, and efficient use of space.\n",
      "run 5: Architecture is the art and science of designing physical structures and spaces, considering aesthetics, functionality, and the environment.\n"
     ]
    }
   ],
   "source": [
    "# temperature is a hyperparameter that controls the randomness of the output.\n",
    "# min=0 - most deterministic, max=2 - most random.\n",
    "# default value is between 0.7 and 1 depending on the model.\n",
    "model = ChatOpenAI(model=MODEL, temperature=1.9)\n",
    "\n",
    "chain = model | parser\n",
    "\n",
    "messages = [\n",
    "    HumanMessage(content=\"What is architecture? In one sentence!\"),\n",
    "]\n",
    "for i in range(5):\n",
    "    result = chain.invoke(messages)\n",
    "    print(f\"run {i+1}:\", result)"
   ]
  },
  {
   "cell_type": "code",
   "execution_count": 19,
   "metadata": {},
   "outputs": [
    {
     "name": "stdout",
     "output_type": "stream",
     "text": [
      "Well, architecture is like trying to explain a cat; it’s a little mysterious and involves a lot of purring over blueprints!\n"
     ]
    }
   ],
   "source": [
    "# Add system instructions\n",
    "messages = [\n",
    "    SystemMessage(\n",
    "        content=\"You are a helpful assistant with deep knowledge of architecture, engineering, and construction. Answer user questions in one short sentence. If and ONLY IF they ask, 'What is architecture?', you should respond evasively, not to the point at all and with humor.\"\n",
    "    ),\n",
    "    # HumanMessage(content=\"What is a building?\"),\n",
    "    HumanMessage(content=\"What is architecture?\"),\n",
    "]\n",
    "# reset model to default temperature\n",
    "model = ChatOpenAI(model=MODEL)\n",
    "chain = model | parser\n",
    "\n",
    "result = chain.invoke(messages)\n",
    "print(result)"
   ]
  },
  {
   "cell_type": "markdown",
   "metadata": {},
   "source": [
    "### 4.2. Prompt Templates\n",
    "\n",
    "- Learn how to dynamically build a message by filling in placeholders.\n"
   ]
  },
  {
   "cell_type": "code",
   "execution_count": 20,
   "metadata": {},
   "outputs": [],
   "source": [
    "from langchain_core.prompts import ChatPromptTemplate\n",
    "\n",
    "system_template = \"You are a helpful assistant with deep knowledge of {subject}. Answer user questions in one short sentence.\"\n",
    "\n",
    "prompt = ChatPromptTemplate.from_messages(\n",
    "    [(\"system\", system_template), (\"user\", \"{question}\")]\n",
    ")\n",
    "\n",
    "chain = prompt | model | parser"
   ]
  },
  {
   "cell_type": "code",
   "execution_count": 21,
   "metadata": {},
   "outputs": [
    {
     "name": "stdout",
     "output_type": "stream",
     "text": [
      "A building is a structure with a roof and walls, designed for human occupancy or use.\n"
     ]
    }
   ],
   "source": [
    "result = chain.invoke({\"subject\": \"architecture\", \"question\": \"What is a building?\"})\n",
    "print(result)"
   ]
  },
  {
   "cell_type": "markdown",
   "metadata": {},
   "source": [
    "Further resources:\n",
    "\n",
    "https://python.langchain.com/v0.2/docs/tutorials/llm_chain/\n"
   ]
  },
  {
   "cell_type": "markdown",
   "metadata": {},
   "source": [
    "### 4.3. Basic ChatBot\n",
    "\n",
    "- Learn how to manage a conversation history.\n"
   ]
  },
  {
   "cell_type": "code",
   "execution_count": 23,
   "metadata": {},
   "outputs": [],
   "source": [
    "from langchain_core.chat_history import (\n",
    "    BaseChatMessageHistory,\n",
    "    InMemoryChatMessageHistory,\n",
    ")\n",
    "from langchain_core.runnables.history import RunnableWithMessageHistory\n",
    "\n",
    "store = {}  # store the history by session id\n",
    "\n",
    "\n",
    "def get_session_history(session_id: str) -> BaseChatMessageHistory:\n",
    "    if session_id not in store:\n",
    "        store[session_id] = InMemoryChatMessageHistory()\n",
    "    return store[session_id]\n",
    "\n",
    "\n",
    "# create a new chain with the history and session management by id\n",
    "with_message_history = RunnableWithMessageHistory(model, get_session_history)"
   ]
  },
  {
   "cell_type": "code",
   "execution_count": 24,
   "metadata": {},
   "outputs": [
    {
     "name": "stdout",
     "output_type": "stream",
     "text": [
      "You: what is architecture\n",
      "Bot:\n"
     ]
    },
    {
     "data": {
      "text/markdown": [
       "Architecture is the art and science of designing and creating buildings and other physical structures. It encompasses a wide range of activities, from conceptual design to the execution of construction. Architects consider functionality, aesthetics, safety, and environmental impact in their designs. \n",
       "\n",
       "Key aspects of architecture include:\n",
       "\n",
       "1. **Design**: Involves creating plans and drawings for buildings, considering elements like space, form, materials, and context.\n",
       "  \n",
       "2. **Functionality**: Buildings must serve their intended purpose, whether residential, commercial, cultural, or recreational.\n",
       "  \n",
       "3. **Aesthetics**: Architecture often reflects artistic expression and cultural identity, influencing how spaces are perceived and experienced.\n",
       "  \n",
       "4. **Sustainability**: Modern architecture increasingly focuses on environmentally friendly practices and sustainable design principles to minimize ecological impact.\n",
       "  \n",
       "5. **Building Codes and Regulations**: Architects must adhere to various legal and safety standards in their designs to ensure the well-being of occupants.\n",
       "\n",
       "6. **Collaboration**: Architects often work with engineers, urban planners, interior designers, and contractors throughout the design and construction process.\n",
       "\n",
       "In summary, architecture is a multidisciplinary field that combines creativity and technical knowledge to create functional and meaningful spaces."
      ]
     },
     "metadata": {},
     "output_type": "display_data"
    },
    {
     "name": "stdout",
     "output_type": "stream",
     "text": [
      "You: tell me more about 5\n",
      "Bot:\n"
     ]
    },
    {
     "data": {
      "text/markdown": [
       "Certainly! Building codes and regulations are crucial aspects of architecture that ensure the safety, health, and welfare of building occupants and the general public. Here's a more detailed look at this topic:\n",
       "\n",
       "### 1. **Purpose of Building Codes:**\n",
       "   - **Safety**: Building codes are established to protect occupants from hazards such as fire, structural failure, and health risks. They set minimum safety standards for construction.\n",
       "   - **Health**: Codes often include provisions for sanitation, ventilation, and the use of non-toxic materials to safeguard the health of occupants.\n",
       "   - **Accessibility**: Regulations ensure that buildings are accessible to people with disabilities, following standards such as the Americans with Disabilities Act (ADA) in the U.S.\n",
       "   - **Energy Efficiency**: Many modern codes include requirements for energy efficiency to reduce environmental impact and lower energy costs.\n",
       "\n",
       "### 2. **Types of Building Codes:**\n",
       "   - **Zoning Codes**: These dictate how land can be used and what types of buildings can be constructed in specific areas (e.g., residential, commercial, industrial).\n",
       "   - **Construction Codes**: These cover the materials and methods used in construction, addressing structural integrity, fire safety, and other technical aspects.\n",
       "   - **Life Safety Codes**: These focus on protecting occupants in emergencies, including fire escape routes, alarm systems, and occupancy limits.\n",
       "   - **Environmental Codes**: These regulations may address sustainability practices, waste management, and the impact of construction activities on the environment.\n",
       "\n",
       "### 3. **Regulatory Authorities:**\n",
       "   - Building codes are typically enforced by local government agencies or building departments. They may also be based on model codes developed by national or international organizations, such as the International Code Council (ICC) or the National Fire Protection Association (NFPA).\n",
       "   - Architects and builders must submit plans for approval before construction can begin, ensuring compliance with all relevant codes.\n",
       "\n",
       "### 4. **Compliance and Inspections:**\n",
       "   - During the construction process, inspections are conducted at various stages to verify that the work complies with the approved plans and applicable codes.\n",
       "   - Failure to comply with building codes can result in penalties, fines, or the need to make costly modifications to a building.\n",
       "\n",
       "### 5. **Challenges:**\n",
       "   - Architects must stay updated on changes in building codes and regulations, as they can evolve due to new safety research, technological advancements, or shifts in public policy.\n",
       "   - Balancing compliance with building codes and the creative vision for a project can be challenging, as codes may sometimes restrict innovative design solutions.\n",
       "\n",
       "### 6. **Global Variations:**\n",
       "   - Building codes can vary significantly by location, reflecting local conditions, cultural practices, and economic factors. Architects working in different regions must be aware of and adapt to these variations.\n",
       "\n",
       "In summary, building codes and regulations are fundamental to the practice of architecture, ensuring that buildings are safe, functional, and environmentally responsible. Architects must navigate these codes effectively to create designs that meet both aesthetic and regulatory requirements."
      ]
     },
     "metadata": {},
     "output_type": "display_data"
    },
    {
     "name": "stdout",
     "output_type": "stream",
     "text": [
      "Exiting the loop.\n"
     ]
    }
   ],
   "source": [
    "# set the session id for this example\n",
    "config = {\"configurable\": {\"session_id\": \"abc2\"}}\n",
    "\n",
    "while True:\n",
    "    user_input = input(\"You (or type 'exit' to quit): \")\n",
    "\n",
    "    # if user types 'exit' stop\n",
    "    if user_input.lower() == \"exit\":\n",
    "        print(\"Exiting the loop.\")\n",
    "        break\n",
    "\n",
    "    print(f\"You: {user_input}\")\n",
    "\n",
    "    # invoke the model with the user input\n",
    "    response = with_message_history.invoke(\n",
    "        [HumanMessage(content=user_input)],\n",
    "        config=config,\n",
    "    )\n",
    "    # we use display_markdown to render the response as the LLM model may return markdown\n",
    "    print(\"Bot:\")\n",
    "    display_markdown(response.content, raw=True)\n",
    "    # enable the simple print to see the raw response\n",
    "    # print(response.content)"
   ]
  },
  {
   "cell_type": "markdown",
   "metadata": {},
   "source": [
    "Further resources:\n",
    "\n",
    "[Jeff Heaton's Persisting LangChain Memory](https://www.youtube.com/watch?v=sjCyqqOQcPA&list=PLjy4p-07OYzui0nVZzMgoLBeXjG9Oy3hi&index=20)\n",
    "\n",
    "[Build a Chatbot, Langchain](https://python.langchain.com/v0.2/docs/tutorials/chatbot/)\n"
   ]
  },
  {
   "cell_type": "markdown",
   "metadata": {},
   "source": [
    "## 5. Structured Output\n",
    "\n",
    "### 5.1. Use pydantic models to enforce a structure for the LLM output\n",
    "\n",
    "- Learn how to ask LLMs to output in a predefined format.\n"
   ]
  },
  {
   "cell_type": "code",
   "execution_count": 25,
   "metadata": {},
   "outputs": [],
   "source": [
    "from langchain.output_parsers import PydanticOutputParser\n",
    "from langchain_core.prompts import PromptTemplate\n",
    "from langchain_core.pydantic_v1 import BaseModel, Field\n",
    "from rich import print as richprint\n",
    "\n",
    "\n",
    "class Architect_Building(BaseModel):\n",
    "    architect_name: str = Field(description=\"The architect's name.\")\n",
    "    famous_building: str = Field(description=\"A famous building by this architect.\")\n",
    "    material: str = Field(\n",
    "        description=\"The main material of this building. If not known then use 'unknown'.\"\n",
    "    )\n",
    "    why_famous: str = Field(\n",
    "        description=\"Why is this building famous? In one short sentence.\"\n",
    "    )\n",
    "\n",
    "\n",
    "# Set up a parser + inject instructions into the prompt template.\n",
    "pydantic_parser = PydanticOutputParser(pydantic_object=Architect_Building)\n",
    "\n",
    "prompt = PromptTemplate(\n",
    "    template=\"Answer the user query.\\n{format_instructions}\\n{query}\\n\",\n",
    "    input_variables=[\"query\"],\n",
    "    partial_variables={\n",
    "        \"format_instructions\": pydantic_parser.get_format_instructions()\n",
    "    },\n",
    ")\n",
    "\n",
    "model = ChatOpenAI(model=MODEL)\n",
    "\n",
    "architect_chain = prompt | model | pydantic_parser"
   ]
  },
  {
   "cell_type": "code",
   "execution_count": 28,
   "metadata": {},
   "outputs": [
    {
     "data": {
      "text/html": [
       "<pre style=\"white-space:pre;overflow-x:auto;line-height:normal;font-family:Menlo,'DejaVu Sans Mono',consolas,'Courier New',monospace\"><span style=\"color: #800080; text-decoration-color: #800080; font-weight: bold\">Architect_Building</span><span style=\"font-weight: bold\">(</span>\n",
       "    <span style=\"color: #808000; text-decoration-color: #808000\">architect_name</span>=<span style=\"color: #008000; text-decoration-color: #008000\">'Frank Lloyd Wright'</span>,\n",
       "    <span style=\"color: #808000; text-decoration-color: #808000\">famous_building</span>=<span style=\"color: #008000; text-decoration-color: #008000\">'Fallingwater'</span>,\n",
       "    <span style=\"color: #808000; text-decoration-color: #808000\">material</span>=<span style=\"color: #008000; text-decoration-color: #008000\">'reinforced concrete'</span>,\n",
       "    <span style=\"color: #808000; text-decoration-color: #808000\">why_famous</span>=<span style=\"color: #008000; text-decoration-color: #008000\">'Fallingwater is famous for its harmonious integration with nature.'</span>\n",
       "<span style=\"font-weight: bold\">)</span>\n",
       "</pre>\n"
      ],
      "text/plain": [
       "\u001b[1;35mArchitect_Building\u001b[0m\u001b[1m(\u001b[0m\n",
       "    \u001b[33marchitect_name\u001b[0m=\u001b[32m'Frank Lloyd Wright'\u001b[0m,\n",
       "    \u001b[33mfamous_building\u001b[0m=\u001b[32m'Fallingwater'\u001b[0m,\n",
       "    \u001b[33mmaterial\u001b[0m=\u001b[32m'reinforced concrete'\u001b[0m,\n",
       "    \u001b[33mwhy_famous\u001b[0m=\u001b[32m'Fallingwater is famous for its harmonious integration with nature.'\u001b[0m\n",
       "\u001b[1m)\u001b[0m\n"
      ]
     },
     "metadata": {},
     "output_type": "display_data"
    }
   ],
   "source": [
    "architect_query = \"Tell me about an architect.\"\n",
    "\n",
    "result = architect_chain.invoke({\"query\": architect_query})\n",
    "richprint(result)"
   ]
  },
  {
   "cell_type": "code",
   "execution_count": 30,
   "metadata": {},
   "outputs": [
    {
     "data": {
      "text/html": [
       "<pre style=\"white-space:pre;overflow-x:auto;line-height:normal;font-family:Menlo,'DejaVu Sans Mono',consolas,'Courier New',monospace\"><span style=\"color: #800080; text-decoration-color: #800080; font-weight: bold\">Architect_Building</span><span style=\"font-weight: bold\">(</span>\n",
       "    <span style=\"color: #808000; text-decoration-color: #808000\">architect_name</span>=<span style=\"color: #008000; text-decoration-color: #008000\">'Zaha Hadid'</span>,\n",
       "    <span style=\"color: #808000; text-decoration-color: #808000\">famous_building</span>=<span style=\"color: #008000; text-decoration-color: #008000\">'Heydar Aliyev Center'</span>,\n",
       "    <span style=\"color: #808000; text-decoration-color: #808000\">material</span>=<span style=\"color: #008000; text-decoration-color: #008000\">'Glass and steel'</span>,\n",
       "    <span style=\"color: #808000; text-decoration-color: #808000\">why_famous</span>=<span style=\"color: #008000; text-decoration-color: #008000\">'It is renowned for its futuristic design and fluid form.'</span>\n",
       "<span style=\"font-weight: bold\">)</span>\n",
       "</pre>\n"
      ],
      "text/plain": [
       "\u001b[1;35mArchitect_Building\u001b[0m\u001b[1m(\u001b[0m\n",
       "    \u001b[33marchitect_name\u001b[0m=\u001b[32m'Zaha Hadid'\u001b[0m,\n",
       "    \u001b[33mfamous_building\u001b[0m=\u001b[32m'Heydar Aliyev Center'\u001b[0m,\n",
       "    \u001b[33mmaterial\u001b[0m=\u001b[32m'Glass and steel'\u001b[0m,\n",
       "    \u001b[33mwhy_famous\u001b[0m=\u001b[32m'It is renowned for its futuristic design and fluid form.'\u001b[0m\n",
       "\u001b[1m)\u001b[0m\n"
      ]
     },
     "metadata": {},
     "output_type": "display_data"
    }
   ],
   "source": [
    "architect_query = \"Tell me about an architect. not Frank Lloyd Wright.\"\n",
    "\n",
    "result = architect_chain.invoke({\"query\": architect_query})\n",
    "richprint(result)"
   ]
  },
  {
   "cell_type": "markdown",
   "metadata": {},
   "source": [
    "### 5.2. Data Extraction\n",
    "\n",
    "- Learn how to use structured output to extract data from loose text.\n"
   ]
  },
  {
   "cell_type": "code",
   "execution_count": 31,
   "metadata": {},
   "outputs": [
    {
     "name": "stdout",
     "output_type": "stream",
     "text": [
      "number of buildings texts: 25\n"
     ]
    }
   ],
   "source": [
    "# Extract data\n",
    "# data source: https://www.elledecor.com/life-culture/travel/g31101520/iconic-buildings/\n",
    "building_texts = \"\"\"Bauhaus — Dessau, Germany: The Bauhaus, completed in 1926 by Walter Gropius, is iconic and architecturally significant for pioneering the modernist movement, blending art, craftsmanship, and technology in a revolutionary approach to design education, influencing generations of architects with its functional, minimalist aesthetic.\n",
    "\n",
    "Great Mosque of Djenné — Djenné, Mali: Built in the 13th century, the Great Mosque is a UNESCO World Heritage Site and a prime example of Sudanese architecture. Its adobe construction, featuring three towering minarets and a large central courtyard, represents a blend of Islamic and pre-Islamic architectural traditions. It doesn't get more visually striking and culturally significant than this.\n",
    "\n",
    "Seagram Building — New York City: The Seagram Building is both beloved and controversial and a paragon of modernist architecture and the International Style. Its sleek glass and bronze exterior, combined with an innovative use of space, set a standard for skyscraper design, embodying Mies van der Rohe's famous dictum “less is more.” It sits across from Gordon Bunshaft's equally innovative (and arguably more beautiful) glass curtain wall building, the Lever House. If you want to understand midcentury modern architecture, just spend some time ogling at the corner of 53rd and Park Avenue.\n",
    "\n",
    "The Portland Building — Portland, Oregon: Just because a building is iconic doesn't mean it's any good. Bergdoll points to the Portland Building by Michael Graves, one of the West Coast's most identifiable (and derided) landmarks, to prove his point. “Even if you like postmodernism, you know it's a bad building,” he says. What's his beef with this quirky monolith that helped define an architectural movement, you ask? Well, there's the issue of the oppressive working spaces within. “It feels like 3,000 feet between your desk and the nearest window.” Then there's the 1982 building's shape and facade, which Bergdoll describes as a boring box with a slightly better wrapping than you'd get for a gift at Macy's.\n",
    "\n",
    "Salk Institute — La Jolla, California: This 1965 building, one of architect Louis Kahn's many bona fide masterpieces, is renowned for its timeless elegance and integration with its natural surroundings. The symmetrical layout and use of materials such as concrete and teak contribute to a sense of harmony, reflecting Kahn's emphasis on connecting monumental man-made form with nature.\n",
    "\n",
    "Casa Milà — Barcelona: Why is a short-lived aesthetics-first design period like Art Nouveau dismissed as frivolous in architecture circles? Sinuous lines and floral patterns perennially just don't get enough love from the black turtleneck crowd. Nonetheless, France had its master in Hector Guimard, Belgium had Victor Horta, and in Spain there was Antoni Gaudí, who was responsible for popular tourist destinations like Sagrada Familia and Park Güell. Between its undulating stone facade and a lack of straight lines, Gaudí Casa Milà, completed in 1912, is one destination for design enthusiasts and culture buffs alike.\n",
    "\n",
    "432 Park Avenue — New York City: Another controversial entry, the late Rafael Viñoly's 1,397-foot-tall skyscraper, completed in 2015, is representative of a movement we'll look back on in 50 years and wonder how we survived it. The my-building-is-taller-than-yours era gave us numerous needle towers, but one reigns supreme in the psyche of New York residents and tourists alike. “I think of all of those buildings, it's the most recognizable,” Bergdoll says. “And you can see it from I-95 in Connecticut.” 432 Park Avenue has redefined the world's most famous skyline, so it's an obvious choice for this list.\n",
    "\n",
    "Notre-Dame du Haut — Ronchamp, France\n",
    "a white building with a triangular roof with notre dame du haut in the backgroundValueyou/Creative Commons\n",
    "Swiss architect Le Corbusier, like some other architects with buildings on this list, designed more than one icon. Though, in his canon of work, one building truly holds a place atop the rest. His 1954 Notre-Dame of Ronchamp is a masterpiece celebrated for its sculptural and expressive form—a swooping roof, asymmetric walls and scattered window placement. In the 1950s, when buildings like Seagram were going up, emphasis was universally placed on function and rectilinearity by architects. How's that for contrast?\n",
    "\n",
    "Guggenheim Museum — Bilbao, Spain: Yes, Frank Gehry's museum is a landmark example of deconstructivist architecture, with its freeform curvilinearity and titanium cladding that, at the time, challenged design conventions. But its impact on Bilbao has been more powerful beyond what anyone could have predicted. A single building essentially revitalized the Basque city and made it a top European tourist destination. “It completely changed the landscape,” Bergdoll says. “It's so iconic that when you're in Bilbao, you feel like you're in the wrong place if you can't see it.\n",
    "\n",
    "Louvre Museum — Paris: A museum's architecture can be just as iconic as the artwork it houses inside, and the Louvre Museum in Paris is proof. Fun fact: The museum's incredibly iconic glass pyramid was built by I.M. Pei, the first non-French architect to work on the project. Controversy certainly ensued.\n",
    "\n",
    "Sydney Opera House — Sydney: The Sydney Opera House had to overcome a series of hurdles before cementing itself as the most popular performance hall. Though Danish designer Jørn Utzon's won over 233 other submissions in 1957, the project faced a series of complications and Utzon formally resigned in 1966. However, Utzon agreed to rejoin the project in 1999, adding the final touches before the Sydney Opera House reopened in 2004.\n",
    "\n",
    "Petronas Twin Towers — Kuala Lumpur, Malaysia: As the world's tallest twin towers since 1996, the Petronas Twin Towers were designed with a Malaysian spirit in mind. From a bird's-eye view, each tower resembles an eight-point star, an Islamic symbol for unity, harmony, stability, and rationality.\n",
    "\n",
    "Colosseum — Rome: The Coliseum or Coliseum from Palatine Hill Also known as the Flavian Amphitheatre, an oval amphitheater in the center of the city of Rome, ItalyEducation Images//Getty Images\n",
    "While Rome's Colosseum was originally built in A.D. 70 to serve as a fighting arena, it has since become an architectural landmark not to be missed. With a round facade and ancient Roman details, this is one iconic building that has withstood the test of time.\n",
    "\n",
    "The Shard — London: Though it's relatively new to the London skyline, the Shard has already become an iconic fixture. Determined to create a “vertical city,” architect Renzo Piano drew inspiration from the nearby strand of railroads, sail ship masts, and paintings from Canaletto. The result? A building that is both modern and majestic.\n",
    "\n",
    "Flatiron Building — New York City: Built by Chicago-based architect Daniel Burnham in 1902, this iconic building is planted in the middle of New York City. The building—and the neighborhood 285 feet below—got its name from its unique, wedge-shape form.\n",
    "\n",
    "World Financial Center — Shanghai: As Shanghai's World Financial Center proves, good things come to those who wait. Construction on the Kohn Pedersen Fox-designed building began in 1997 but wasn't finished for another decade. Not only was it dubbed one of the tallest buildings in the world upon completion, but its three observation decks also offer impressive views of the city.\n",
    "\n",
    "Palace of Versailles — Versailles, France: Since construction began in 1631, the Palace of Versailles has transformed from the primary residence of Louis XIV to a museum of the history of France. However, this French institution hasn't lost an ounce of opulence. From its famous hall of mirrors to the 100,000 gold leaves that flank its gate, the palace still feels downright royal.\n",
    "\n",
    "Taj Mahal — Agra, India: A UNESCO World Heritage site—and one of the new seven wonders of the world—India's Taj Mahal is a bona fide marbled masterpiece. There's a reason people travel from near and far to see this symmetrical structure.\n",
    "\n",
    "Palace of Westminster — London: Speaking of the Shard, the tower's observation deck has a clear sight of another beautiful, British building: the Palace of Westminster. While most of the original structure burned down in the Great Fire of 1934, Sir Charles Barry spearheaded the renovation, complete with a Gothic facade and, of course, the famous Big Ben clocktower.\n",
    "\n",
    "Notre Dame — Paris: Not only does the Notre Dame Cathedral draw in approximately 13 million visitors per year, but its Gothic facade and stoic interior make it one of the most popular churches in the world. Though part of the structure tragically burned down in 2019, the Notre Dame still lives on in architecture infamy.\n",
    "\n",
    "St. Basil's Cathedral — Moscow: Located in Moscow's Red Square, St. Basil's Cathedral gives the tourist destination a storybook flair. Fun fact: The bold colors that currently adorn the cathedral weren't added until more than 200 years after completion.\n",
    "\n",
    "Empire State Building — New York City: From the Freedom Tower downtown to 432 Park Avenue near the Upper West Side, New York's small island is packed with iconic skyscrapers. But perhaps nothing epitomizes New York quite like the Empire State Building. Completed in 1931, this iconic building symbolize the city's ambition, innovation, and a competitive spirit.\n",
    "\n",
    "Eiffel Tower — Paris: Of course, no conversation about Paris architecture is complete without praising the Eiffel Tower. Erected for the World's Fair of 1889, the Eiffel Tower was selected out of 107 projects and has since become synonymous with Paris.\n",
    "\n",
    "Burj Khalifa — Dubai, United Arab Emirates: Clocking in at over 2,700 feet, Dubai's Burj Khalifa is currently the tallest building in the world. But despite its extravagance, this record-breaking building has a soft side. In fact, architect Adrian Smith drew inspiration from the UAE's beloved flower, the spider lily.\n",
    "\n",
    "Solomon R. Guggenheim Museum — New York City: With its modern, bulbous silhouette, Frank Lloyd Wright might not be the first name that comes to mind when you see the Guggenheim Museum in New York City. However, the father of Prairie style is responsible for this iconic New York structure. Wright was commissioned to design the Guggenheim museum in 1943, and it opened to the public in 1959—six months after the architect's death.\"\"\"\n",
    "\n",
    "building_texts = building_texts.split(\"\\n\\n\")\n",
    "print(f\"number of buildings texts: {len(building_texts)}\")"
   ]
  },
  {
   "cell_type": "code",
   "execution_count": 32,
   "metadata": {},
   "outputs": [
    {
     "data": {
      "text/html": [
       "<pre style=\"white-space:pre;overflow-x:auto;line-height:normal;font-family:Menlo,'DejaVu Sans Mono',consolas,'Courier New',monospace\"><span style=\"color: #800080; text-decoration-color: #800080; font-weight: bold\">Architect_Building</span><span style=\"font-weight: bold\">(</span>\n",
       "    <span style=\"color: #808000; text-decoration-color: #808000\">architect_name</span>=<span style=\"color: #008000; text-decoration-color: #008000\">'Walter Gropius'</span>,\n",
       "    <span style=\"color: #808000; text-decoration-color: #808000\">famous_building</span>=<span style=\"color: #008000; text-decoration-color: #008000\">'Bauhaus'</span>,\n",
       "    <span style=\"color: #808000; text-decoration-color: #808000\">material</span>=<span style=\"color: #008000; text-decoration-color: #008000\">'unknown'</span>,\n",
       "    <span style=\"color: #808000; text-decoration-color: #808000\">why_famous</span>=<span style=\"color: #008000; text-decoration-color: #008000\">'The Bauhaus is famous for pioneering the modernist movement and influencing generations of </span>\n",
       "<span style=\"color: #008000; text-decoration-color: #008000\">architects.'</span>\n",
       "<span style=\"font-weight: bold\">)</span>\n",
       "</pre>\n"
      ],
      "text/plain": [
       "\u001b[1;35mArchitect_Building\u001b[0m\u001b[1m(\u001b[0m\n",
       "    \u001b[33marchitect_name\u001b[0m=\u001b[32m'Walter Gropius'\u001b[0m,\n",
       "    \u001b[33mfamous_building\u001b[0m=\u001b[32m'Bauhaus'\u001b[0m,\n",
       "    \u001b[33mmaterial\u001b[0m=\u001b[32m'unknown'\u001b[0m,\n",
       "    \u001b[33mwhy_famous\u001b[0m=\u001b[32m'The Bauhaus is famous for pioneering the modernist movement and influencing generations of \u001b[0m\n",
       "\u001b[32marchitects.'\u001b[0m\n",
       "\u001b[1m)\u001b[0m\n"
      ]
     },
     "metadata": {},
     "output_type": "display_data"
    },
    {
     "data": {
      "text/html": [
       "<pre style=\"white-space:pre;overflow-x:auto;line-height:normal;font-family:Menlo,'DejaVu Sans Mono',consolas,'Courier New',monospace\"><span style=\"color: #800080; text-decoration-color: #800080; font-weight: bold\">Architect_Building</span><span style=\"font-weight: bold\">(</span>\n",
       "    <span style=\"color: #808000; text-decoration-color: #808000\">architect_name</span>=<span style=\"color: #008000; text-decoration-color: #008000\">'Unknown'</span>,\n",
       "    <span style=\"color: #808000; text-decoration-color: #808000\">famous_building</span>=<span style=\"color: #008000; text-decoration-color: #008000\">'Great Mosque of Djenné'</span>,\n",
       "    <span style=\"color: #808000; text-decoration-color: #808000\">material</span>=<span style=\"color: #008000; text-decoration-color: #008000\">'adobe'</span>,\n",
       "    <span style=\"color: #808000; text-decoration-color: #808000\">why_famous</span>=<span style=\"color: #008000; text-decoration-color: #008000\">'It is a UNESCO World Heritage Site and a prime example of Sudanese architecture.'</span>\n",
       "<span style=\"font-weight: bold\">)</span>\n",
       "</pre>\n"
      ],
      "text/plain": [
       "\u001b[1;35mArchitect_Building\u001b[0m\u001b[1m(\u001b[0m\n",
       "    \u001b[33marchitect_name\u001b[0m=\u001b[32m'Unknown'\u001b[0m,\n",
       "    \u001b[33mfamous_building\u001b[0m=\u001b[32m'Great Mosque of Djenné'\u001b[0m,\n",
       "    \u001b[33mmaterial\u001b[0m=\u001b[32m'adobe'\u001b[0m,\n",
       "    \u001b[33mwhy_famous\u001b[0m=\u001b[32m'It is a UNESCO World Heritage Site and a prime example of Sudanese architecture.'\u001b[0m\n",
       "\u001b[1m)\u001b[0m\n"
      ]
     },
     "metadata": {},
     "output_type": "display_data"
    },
    {
     "data": {
      "text/html": [
       "<pre style=\"white-space:pre;overflow-x:auto;line-height:normal;font-family:Menlo,'DejaVu Sans Mono',consolas,'Courier New',monospace\"><span style=\"color: #800080; text-decoration-color: #800080; font-weight: bold\">Architect_Building</span><span style=\"font-weight: bold\">(</span>\n",
       "    <span style=\"color: #808000; text-decoration-color: #808000\">architect_name</span>=<span style=\"color: #008000; text-decoration-color: #008000\">'Mies van der Rohe'</span>,\n",
       "    <span style=\"color: #808000; text-decoration-color: #808000\">famous_building</span>=<span style=\"color: #008000; text-decoration-color: #008000\">'Seagram Building'</span>,\n",
       "    <span style=\"color: #808000; text-decoration-color: #808000\">material</span>=<span style=\"color: #008000; text-decoration-color: #008000\">'glass and bronze'</span>,\n",
       "    <span style=\"color: #808000; text-decoration-color: #808000\">why_famous</span>=<span style=\"color: #008000; text-decoration-color: #008000\">'The Seagram Building is a paragon of modernist architecture and set a standard for skyscraper </span>\n",
       "<span style=\"color: #008000; text-decoration-color: #008000\">design.'</span>\n",
       "<span style=\"font-weight: bold\">)</span>\n",
       "</pre>\n"
      ],
      "text/plain": [
       "\u001b[1;35mArchitect_Building\u001b[0m\u001b[1m(\u001b[0m\n",
       "    \u001b[33marchitect_name\u001b[0m=\u001b[32m'Mies van der Rohe'\u001b[0m,\n",
       "    \u001b[33mfamous_building\u001b[0m=\u001b[32m'Seagram Building'\u001b[0m,\n",
       "    \u001b[33mmaterial\u001b[0m=\u001b[32m'glass and bronze'\u001b[0m,\n",
       "    \u001b[33mwhy_famous\u001b[0m=\u001b[32m'The Seagram Building is a paragon of modernist architecture and set a standard for skyscraper \u001b[0m\n",
       "\u001b[32mdesign.'\u001b[0m\n",
       "\u001b[1m)\u001b[0m\n"
      ]
     },
     "metadata": {},
     "output_type": "display_data"
    },
    {
     "data": {
      "text/html": [
       "<pre style=\"white-space:pre;overflow-x:auto;line-height:normal;font-family:Menlo,'DejaVu Sans Mono',consolas,'Courier New',monospace\"><span style=\"color: #800080; text-decoration-color: #800080; font-weight: bold\">Architect_Building</span><span style=\"font-weight: bold\">(</span>\n",
       "    <span style=\"color: #808000; text-decoration-color: #808000\">architect_name</span>=<span style=\"color: #008000; text-decoration-color: #008000\">'Michael Graves'</span>,\n",
       "    <span style=\"color: #808000; text-decoration-color: #808000\">famous_building</span>=<span style=\"color: #008000; text-decoration-color: #008000\">'Portland Building'</span>,\n",
       "    <span style=\"color: #808000; text-decoration-color: #808000\">material</span>=<span style=\"color: #008000; text-decoration-color: #008000\">'unknown'</span>,\n",
       "    <span style=\"color: #808000; text-decoration-color: #808000\">why_famous</span>=<span style=\"color: #008000; text-decoration-color: #008000\">'The Portland Building is famous for being an iconic but controversial example of postmodern </span>\n",
       "<span style=\"color: #008000; text-decoration-color: #008000\">architecture.'</span>\n",
       "<span style=\"font-weight: bold\">)</span>\n",
       "</pre>\n"
      ],
      "text/plain": [
       "\u001b[1;35mArchitect_Building\u001b[0m\u001b[1m(\u001b[0m\n",
       "    \u001b[33marchitect_name\u001b[0m=\u001b[32m'Michael Graves'\u001b[0m,\n",
       "    \u001b[33mfamous_building\u001b[0m=\u001b[32m'Portland Building'\u001b[0m,\n",
       "    \u001b[33mmaterial\u001b[0m=\u001b[32m'unknown'\u001b[0m,\n",
       "    \u001b[33mwhy_famous\u001b[0m=\u001b[32m'The Portland Building is famous for being an iconic but controversial example of postmodern \u001b[0m\n",
       "\u001b[32marchitecture.'\u001b[0m\n",
       "\u001b[1m)\u001b[0m\n"
      ]
     },
     "metadata": {},
     "output_type": "display_data"
    },
    {
     "data": {
      "text/html": [
       "<pre style=\"white-space:pre;overflow-x:auto;line-height:normal;font-family:Menlo,'DejaVu Sans Mono',consolas,'Courier New',monospace\"><span style=\"color: #800080; text-decoration-color: #800080; font-weight: bold\">Architect_Building</span><span style=\"font-weight: bold\">(</span>\n",
       "    <span style=\"color: #808000; text-decoration-color: #808000\">architect_name</span>=<span style=\"color: #008000; text-decoration-color: #008000\">'Louis Kahn'</span>,\n",
       "    <span style=\"color: #808000; text-decoration-color: #808000\">famous_building</span>=<span style=\"color: #008000; text-decoration-color: #008000\">'Salk Institute'</span>,\n",
       "    <span style=\"color: #808000; text-decoration-color: #808000\">material</span>=<span style=\"color: #008000; text-decoration-color: #008000\">'concrete and teak'</span>,\n",
       "    <span style=\"color: #808000; text-decoration-color: #808000\">why_famous</span>=<span style=\"color: #008000; text-decoration-color: #008000\">'It is renowned for its timeless elegance and integration with its natural surroundings.'</span>\n",
       "<span style=\"font-weight: bold\">)</span>\n",
       "</pre>\n"
      ],
      "text/plain": [
       "\u001b[1;35mArchitect_Building\u001b[0m\u001b[1m(\u001b[0m\n",
       "    \u001b[33marchitect_name\u001b[0m=\u001b[32m'Louis Kahn'\u001b[0m,\n",
       "    \u001b[33mfamous_building\u001b[0m=\u001b[32m'Salk Institute'\u001b[0m,\n",
       "    \u001b[33mmaterial\u001b[0m=\u001b[32m'concrete and teak'\u001b[0m,\n",
       "    \u001b[33mwhy_famous\u001b[0m=\u001b[32m'It is renowned for its timeless elegance and integration with its natural surroundings.'\u001b[0m\n",
       "\u001b[1m)\u001b[0m\n"
      ]
     },
     "metadata": {},
     "output_type": "display_data"
    },
    {
     "data": {
      "text/html": [
       "<pre style=\"white-space:pre;overflow-x:auto;line-height:normal;font-family:Menlo,'DejaVu Sans Mono',consolas,'Courier New',monospace\"><span style=\"color: #800080; text-decoration-color: #800080; font-weight: bold\">Architect_Building</span><span style=\"font-weight: bold\">(</span>\n",
       "    <span style=\"color: #808000; text-decoration-color: #808000\">architect_name</span>=<span style=\"color: #008000; text-decoration-color: #008000\">'Antoni Gaudí'</span>,\n",
       "    <span style=\"color: #808000; text-decoration-color: #808000\">famous_building</span>=<span style=\"color: #008000; text-decoration-color: #008000\">'Casa Milà'</span>,\n",
       "    <span style=\"color: #808000; text-decoration-color: #808000\">material</span>=<span style=\"color: #008000; text-decoration-color: #008000\">'stone'</span>,\n",
       "    <span style=\"color: #808000; text-decoration-color: #808000\">why_famous</span>=<span style=\"color: #008000; text-decoration-color: #008000\">'Casa Milà is famous for its unique undulating stone facade and innovative design.'</span>\n",
       "<span style=\"font-weight: bold\">)</span>\n",
       "</pre>\n"
      ],
      "text/plain": [
       "\u001b[1;35mArchitect_Building\u001b[0m\u001b[1m(\u001b[0m\n",
       "    \u001b[33marchitect_name\u001b[0m=\u001b[32m'Antoni Gaudí'\u001b[0m,\n",
       "    \u001b[33mfamous_building\u001b[0m=\u001b[32m'Casa Milà'\u001b[0m,\n",
       "    \u001b[33mmaterial\u001b[0m=\u001b[32m'stone'\u001b[0m,\n",
       "    \u001b[33mwhy_famous\u001b[0m=\u001b[32m'Casa Milà is famous for its unique undulating stone facade and innovative design.'\u001b[0m\n",
       "\u001b[1m)\u001b[0m\n"
      ]
     },
     "metadata": {},
     "output_type": "display_data"
    },
    {
     "data": {
      "text/html": [
       "<pre style=\"white-space:pre;overflow-x:auto;line-height:normal;font-family:Menlo,'DejaVu Sans Mono',consolas,'Courier New',monospace\"><span style=\"color: #800080; text-decoration-color: #800080; font-weight: bold\">Architect_Building</span><span style=\"font-weight: bold\">(</span>\n",
       "    <span style=\"color: #808000; text-decoration-color: #808000\">architect_name</span>=<span style=\"color: #008000; text-decoration-color: #008000\">'Rafael Viñoly'</span>,\n",
       "    <span style=\"color: #808000; text-decoration-color: #808000\">famous_building</span>=<span style=\"color: #008000; text-decoration-color: #008000\">'432 Park Avenue'</span>,\n",
       "    <span style=\"color: #808000; text-decoration-color: #808000\">material</span>=<span style=\"color: #008000; text-decoration-color: #008000\">'unknown'</span>,\n",
       "    <span style=\"color: #808000; text-decoration-color: #808000\">why_famous</span>=<span style=\"color: #008000; text-decoration-color: #008000\">\"It has redefined the world's most famous skyline.\"</span>\n",
       "<span style=\"font-weight: bold\">)</span>\n",
       "</pre>\n"
      ],
      "text/plain": [
       "\u001b[1;35mArchitect_Building\u001b[0m\u001b[1m(\u001b[0m\n",
       "    \u001b[33marchitect_name\u001b[0m=\u001b[32m'Rafael Viñoly'\u001b[0m,\n",
       "    \u001b[33mfamous_building\u001b[0m=\u001b[32m'432 Park Avenue'\u001b[0m,\n",
       "    \u001b[33mmaterial\u001b[0m=\u001b[32m'unknown'\u001b[0m,\n",
       "    \u001b[33mwhy_famous\u001b[0m=\u001b[32m\"It\u001b[0m\u001b[32m has redefined the world's most famous skyline.\"\u001b[0m\n",
       "\u001b[1m)\u001b[0m\n"
      ]
     },
     "metadata": {},
     "output_type": "display_data"
    },
    {
     "data": {
      "text/html": [
       "<pre style=\"white-space:pre;overflow-x:auto;line-height:normal;font-family:Menlo,'DejaVu Sans Mono',consolas,'Courier New',monospace\"><span style=\"color: #800080; text-decoration-color: #800080; font-weight: bold\">Architect_Building</span><span style=\"font-weight: bold\">(</span>\n",
       "    <span style=\"color: #808000; text-decoration-color: #808000\">architect_name</span>=<span style=\"color: #008000; text-decoration-color: #008000\">'Le Corbusier'</span>,\n",
       "    <span style=\"color: #808000; text-decoration-color: #808000\">famous_building</span>=<span style=\"color: #008000; text-decoration-color: #008000\">'Notre-Dame du Haut'</span>,\n",
       "    <span style=\"color: #808000; text-decoration-color: #808000\">material</span>=<span style=\"color: #008000; text-decoration-color: #008000\">'unknown'</span>,\n",
       "    <span style=\"color: #808000; text-decoration-color: #808000\">why_famous</span>=<span style=\"color: #008000; text-decoration-color: #008000\">'It is celebrated for its sculptural and expressive form.'</span>\n",
       "<span style=\"font-weight: bold\">)</span>\n",
       "</pre>\n"
      ],
      "text/plain": [
       "\u001b[1;35mArchitect_Building\u001b[0m\u001b[1m(\u001b[0m\n",
       "    \u001b[33marchitect_name\u001b[0m=\u001b[32m'Le Corbusier'\u001b[0m,\n",
       "    \u001b[33mfamous_building\u001b[0m=\u001b[32m'Notre-Dame du Haut'\u001b[0m,\n",
       "    \u001b[33mmaterial\u001b[0m=\u001b[32m'unknown'\u001b[0m,\n",
       "    \u001b[33mwhy_famous\u001b[0m=\u001b[32m'It is celebrated for its sculptural and expressive form.'\u001b[0m\n",
       "\u001b[1m)\u001b[0m\n"
      ]
     },
     "metadata": {},
     "output_type": "display_data"
    },
    {
     "data": {
      "text/html": [
       "<pre style=\"white-space:pre;overflow-x:auto;line-height:normal;font-family:Menlo,'DejaVu Sans Mono',consolas,'Courier New',monospace\"><span style=\"color: #800080; text-decoration-color: #800080; font-weight: bold\">Architect_Building</span><span style=\"font-weight: bold\">(</span>\n",
       "    <span style=\"color: #808000; text-decoration-color: #808000\">architect_name</span>=<span style=\"color: #008000; text-decoration-color: #008000\">'Frank Gehry'</span>,\n",
       "    <span style=\"color: #808000; text-decoration-color: #808000\">famous_building</span>=<span style=\"color: #008000; text-decoration-color: #008000\">'Guggenheim Museum'</span>,\n",
       "    <span style=\"color: #808000; text-decoration-color: #808000\">material</span>=<span style=\"color: #008000; text-decoration-color: #008000\">'titanium'</span>,\n",
       "    <span style=\"color: #808000; text-decoration-color: #808000\">why_famous</span>=<span style=\"color: #008000; text-decoration-color: #008000\">'It revitalized Bilbao and transformed it into a top European tourist destination.'</span>\n",
       "<span style=\"font-weight: bold\">)</span>\n",
       "</pre>\n"
      ],
      "text/plain": [
       "\u001b[1;35mArchitect_Building\u001b[0m\u001b[1m(\u001b[0m\n",
       "    \u001b[33marchitect_name\u001b[0m=\u001b[32m'Frank Gehry'\u001b[0m,\n",
       "    \u001b[33mfamous_building\u001b[0m=\u001b[32m'Guggenheim Museum'\u001b[0m,\n",
       "    \u001b[33mmaterial\u001b[0m=\u001b[32m'titanium'\u001b[0m,\n",
       "    \u001b[33mwhy_famous\u001b[0m=\u001b[32m'It revitalized Bilbao and transformed it into a top European tourist destination.'\u001b[0m\n",
       "\u001b[1m)\u001b[0m\n"
      ]
     },
     "metadata": {},
     "output_type": "display_data"
    },
    {
     "data": {
      "text/html": [
       "<pre style=\"white-space:pre;overflow-x:auto;line-height:normal;font-family:Menlo,'DejaVu Sans Mono',consolas,'Courier New',monospace\"><span style=\"color: #800080; text-decoration-color: #800080; font-weight: bold\">Architect_Building</span><span style=\"font-weight: bold\">(</span>\n",
       "    <span style=\"color: #808000; text-decoration-color: #808000\">architect_name</span>=<span style=\"color: #008000; text-decoration-color: #008000\">'I.M. Pei'</span>,\n",
       "    <span style=\"color: #808000; text-decoration-color: #808000\">famous_building</span>=<span style=\"color: #008000; text-decoration-color: #008000\">'Louvre Museum'</span>,\n",
       "    <span style=\"color: #808000; text-decoration-color: #808000\">material</span>=<span style=\"color: #008000; text-decoration-color: #008000\">'glass'</span>,\n",
       "    <span style=\"color: #808000; text-decoration-color: #808000\">why_famous</span>=<span style=\"color: #008000; text-decoration-color: #008000\">'The Louvre Museum is famous for its iconic glass pyramid entrance.'</span>\n",
       "<span style=\"font-weight: bold\">)</span>\n",
       "</pre>\n"
      ],
      "text/plain": [
       "\u001b[1;35mArchitect_Building\u001b[0m\u001b[1m(\u001b[0m\n",
       "    \u001b[33marchitect_name\u001b[0m=\u001b[32m'I.M. Pei'\u001b[0m,\n",
       "    \u001b[33mfamous_building\u001b[0m=\u001b[32m'Louvre Museum'\u001b[0m,\n",
       "    \u001b[33mmaterial\u001b[0m=\u001b[32m'glass'\u001b[0m,\n",
       "    \u001b[33mwhy_famous\u001b[0m=\u001b[32m'The Louvre Museum is famous for its iconic glass pyramid entrance.'\u001b[0m\n",
       "\u001b[1m)\u001b[0m\n"
      ]
     },
     "metadata": {},
     "output_type": "display_data"
    },
    {
     "data": {
      "text/html": [
       "<pre style=\"white-space:pre;overflow-x:auto;line-height:normal;font-family:Menlo,'DejaVu Sans Mono',consolas,'Courier New',monospace\"><span style=\"color: #800080; text-decoration-color: #800080; font-weight: bold\">Architect_Building</span><span style=\"font-weight: bold\">(</span>\n",
       "    <span style=\"color: #808000; text-decoration-color: #808000\">architect_name</span>=<span style=\"color: #008000; text-decoration-color: #008000\">'Jørn Utzon'</span>,\n",
       "    <span style=\"color: #808000; text-decoration-color: #808000\">famous_building</span>=<span style=\"color: #008000; text-decoration-color: #008000\">'Sydney Opera House'</span>,\n",
       "    <span style=\"color: #808000; text-decoration-color: #808000\">material</span>=<span style=\"color: #008000; text-decoration-color: #008000\">'unknown'</span>,\n",
       "    <span style=\"color: #808000; text-decoration-color: #808000\">why_famous</span>=<span style=\"color: #008000; text-decoration-color: #008000\">'It is famous for its unique architectural design and as a premier performing arts venue.'</span>\n",
       "<span style=\"font-weight: bold\">)</span>\n",
       "</pre>\n"
      ],
      "text/plain": [
       "\u001b[1;35mArchitect_Building\u001b[0m\u001b[1m(\u001b[0m\n",
       "    \u001b[33marchitect_name\u001b[0m=\u001b[32m'Jørn Utzon'\u001b[0m,\n",
       "    \u001b[33mfamous_building\u001b[0m=\u001b[32m'Sydney Opera House'\u001b[0m,\n",
       "    \u001b[33mmaterial\u001b[0m=\u001b[32m'unknown'\u001b[0m,\n",
       "    \u001b[33mwhy_famous\u001b[0m=\u001b[32m'It is famous for its unique architectural design and as a premier performing arts venue.'\u001b[0m\n",
       "\u001b[1m)\u001b[0m\n"
      ]
     },
     "metadata": {},
     "output_type": "display_data"
    },
    {
     "data": {
      "text/html": [
       "<pre style=\"white-space:pre;overflow-x:auto;line-height:normal;font-family:Menlo,'DejaVu Sans Mono',consolas,'Courier New',monospace\"><span style=\"color: #800080; text-decoration-color: #800080; font-weight: bold\">Architect_Building</span><span style=\"font-weight: bold\">(</span>\n",
       "    <span style=\"color: #808000; text-decoration-color: #808000\">architect_name</span>=<span style=\"color: #008000; text-decoration-color: #008000\">'Cesar Pelli'</span>,\n",
       "    <span style=\"color: #808000; text-decoration-color: #808000\">famous_building</span>=<span style=\"color: #008000; text-decoration-color: #008000\">'Petronas Twin Towers'</span>,\n",
       "    <span style=\"color: #808000; text-decoration-color: #808000\">material</span>=<span style=\"color: #008000; text-decoration-color: #008000\">'steel and glass'</span>,\n",
       "    <span style=\"color: #808000; text-decoration-color: #808000\">why_famous</span>=<span style=\"color: #008000; text-decoration-color: #008000\">\"They are the world's tallest twin towers since 1996.\"</span>\n",
       "<span style=\"font-weight: bold\">)</span>\n",
       "</pre>\n"
      ],
      "text/plain": [
       "\u001b[1;35mArchitect_Building\u001b[0m\u001b[1m(\u001b[0m\n",
       "    \u001b[33marchitect_name\u001b[0m=\u001b[32m'Cesar Pelli'\u001b[0m,\n",
       "    \u001b[33mfamous_building\u001b[0m=\u001b[32m'Petronas Twin Towers'\u001b[0m,\n",
       "    \u001b[33mmaterial\u001b[0m=\u001b[32m'steel and glass'\u001b[0m,\n",
       "    \u001b[33mwhy_famous\u001b[0m=\u001b[32m\"They\u001b[0m\u001b[32m are the world's tallest twin towers since 1996.\"\u001b[0m\n",
       "\u001b[1m)\u001b[0m\n"
      ]
     },
     "metadata": {},
     "output_type": "display_data"
    },
    {
     "data": {
      "text/html": [
       "<pre style=\"white-space:pre;overflow-x:auto;line-height:normal;font-family:Menlo,'DejaVu Sans Mono',consolas,'Courier New',monospace\"><span style=\"color: #800080; text-decoration-color: #800080; font-weight: bold\">Architect_Building</span><span style=\"font-weight: bold\">(</span>\n",
       "    <span style=\"color: #808000; text-decoration-color: #808000\">architect_name</span>=<span style=\"color: #008000; text-decoration-color: #008000\">'unknown'</span>,\n",
       "    <span style=\"color: #808000; text-decoration-color: #808000\">famous_building</span>=<span style=\"color: #008000; text-decoration-color: #008000\">'Colosseum'</span>,\n",
       "    <span style=\"color: #808000; text-decoration-color: #808000\">material</span>=<span style=\"color: #008000; text-decoration-color: #008000\">'concrete'</span>,\n",
       "    <span style=\"color: #808000; text-decoration-color: #808000\">why_famous</span>=<span style=\"color: #008000; text-decoration-color: #008000\">'The Colosseum is famous for its ancient Roman architecture and as a symbol of the Roman Empire.'</span>\n",
       "<span style=\"font-weight: bold\">)</span>\n",
       "</pre>\n"
      ],
      "text/plain": [
       "\u001b[1;35mArchitect_Building\u001b[0m\u001b[1m(\u001b[0m\n",
       "    \u001b[33marchitect_name\u001b[0m=\u001b[32m'unknown'\u001b[0m,\n",
       "    \u001b[33mfamous_building\u001b[0m=\u001b[32m'Colosseum'\u001b[0m,\n",
       "    \u001b[33mmaterial\u001b[0m=\u001b[32m'concrete'\u001b[0m,\n",
       "    \u001b[33mwhy_famous\u001b[0m=\u001b[32m'The Colosseum is famous for its ancient Roman architecture and as a symbol of the Roman Empire.'\u001b[0m\n",
       "\u001b[1m)\u001b[0m\n"
      ]
     },
     "metadata": {},
     "output_type": "display_data"
    },
    {
     "data": {
      "text/html": [
       "<pre style=\"white-space:pre;overflow-x:auto;line-height:normal;font-family:Menlo,'DejaVu Sans Mono',consolas,'Courier New',monospace\"><span style=\"color: #800080; text-decoration-color: #800080; font-weight: bold\">Architect_Building</span><span style=\"font-weight: bold\">(</span>\n",
       "    <span style=\"color: #808000; text-decoration-color: #808000\">architect_name</span>=<span style=\"color: #008000; text-decoration-color: #008000\">'Renzo Piano'</span>,\n",
       "    <span style=\"color: #808000; text-decoration-color: #808000\">famous_building</span>=<span style=\"color: #008000; text-decoration-color: #008000\">'The Shard'</span>,\n",
       "    <span style=\"color: #808000; text-decoration-color: #808000\">material</span>=<span style=\"color: #008000; text-decoration-color: #008000\">'unknown'</span>,\n",
       "    <span style=\"color: #808000; text-decoration-color: #808000\">why_famous</span>=<span style=\"color: #008000; text-decoration-color: #008000\">'The Shard has become an iconic fixture of the London skyline.'</span>\n",
       "<span style=\"font-weight: bold\">)</span>\n",
       "</pre>\n"
      ],
      "text/plain": [
       "\u001b[1;35mArchitect_Building\u001b[0m\u001b[1m(\u001b[0m\n",
       "    \u001b[33marchitect_name\u001b[0m=\u001b[32m'Renzo Piano'\u001b[0m,\n",
       "    \u001b[33mfamous_building\u001b[0m=\u001b[32m'The Shard'\u001b[0m,\n",
       "    \u001b[33mmaterial\u001b[0m=\u001b[32m'unknown'\u001b[0m,\n",
       "    \u001b[33mwhy_famous\u001b[0m=\u001b[32m'The Shard has become an iconic fixture of the London skyline.'\u001b[0m\n",
       "\u001b[1m)\u001b[0m\n"
      ]
     },
     "metadata": {},
     "output_type": "display_data"
    },
    {
     "data": {
      "text/html": [
       "<pre style=\"white-space:pre;overflow-x:auto;line-height:normal;font-family:Menlo,'DejaVu Sans Mono',consolas,'Courier New',monospace\"><span style=\"color: #800080; text-decoration-color: #800080; font-weight: bold\">Architect_Building</span><span style=\"font-weight: bold\">(</span>\n",
       "    <span style=\"color: #808000; text-decoration-color: #808000\">architect_name</span>=<span style=\"color: #008000; text-decoration-color: #008000\">'Daniel Burnham'</span>,\n",
       "    <span style=\"color: #808000; text-decoration-color: #808000\">famous_building</span>=<span style=\"color: #008000; text-decoration-color: #008000\">'Flatiron Building'</span>,\n",
       "    <span style=\"color: #808000; text-decoration-color: #808000\">material</span>=<span style=\"color: #008000; text-decoration-color: #008000\">'unknown'</span>,\n",
       "    <span style=\"color: #808000; text-decoration-color: #808000\">why_famous</span>=<span style=\"color: #008000; text-decoration-color: #008000\">'This building is famous for its unique, wedge-shape form.'</span>\n",
       "<span style=\"font-weight: bold\">)</span>\n",
       "</pre>\n"
      ],
      "text/plain": [
       "\u001b[1;35mArchitect_Building\u001b[0m\u001b[1m(\u001b[0m\n",
       "    \u001b[33marchitect_name\u001b[0m=\u001b[32m'Daniel Burnham'\u001b[0m,\n",
       "    \u001b[33mfamous_building\u001b[0m=\u001b[32m'Flatiron Building'\u001b[0m,\n",
       "    \u001b[33mmaterial\u001b[0m=\u001b[32m'unknown'\u001b[0m,\n",
       "    \u001b[33mwhy_famous\u001b[0m=\u001b[32m'This building is famous for its unique, wedge-shape form.'\u001b[0m\n",
       "\u001b[1m)\u001b[0m\n"
      ]
     },
     "metadata": {},
     "output_type": "display_data"
    },
    {
     "data": {
      "text/html": [
       "<pre style=\"white-space:pre;overflow-x:auto;line-height:normal;font-family:Menlo,'DejaVu Sans Mono',consolas,'Courier New',monospace\"><span style=\"color: #800080; text-decoration-color: #800080; font-weight: bold\">Architect_Building</span><span style=\"font-weight: bold\">(</span>\n",
       "    <span style=\"color: #808000; text-decoration-color: #808000\">architect_name</span>=<span style=\"color: #008000; text-decoration-color: #008000\">'Kohn Pedersen Fox'</span>,\n",
       "    <span style=\"color: #808000; text-decoration-color: #808000\">famous_building</span>=<span style=\"color: #008000; text-decoration-color: #008000\">'World Financial Center'</span>,\n",
       "    <span style=\"color: #808000; text-decoration-color: #808000\">material</span>=<span style=\"color: #008000; text-decoration-color: #008000\">'unknown'</span>,\n",
       "    <span style=\"color: #808000; text-decoration-color: #808000\">why_famous</span>=<span style=\"color: #008000; text-decoration-color: #008000\">'It is one of the tallest buildings in the world and offers impressive views from its observation </span>\n",
       "<span style=\"color: #008000; text-decoration-color: #008000\">decks.'</span>\n",
       "<span style=\"font-weight: bold\">)</span>\n",
       "</pre>\n"
      ],
      "text/plain": [
       "\u001b[1;35mArchitect_Building\u001b[0m\u001b[1m(\u001b[0m\n",
       "    \u001b[33marchitect_name\u001b[0m=\u001b[32m'Kohn Pedersen Fox'\u001b[0m,\n",
       "    \u001b[33mfamous_building\u001b[0m=\u001b[32m'World Financial Center'\u001b[0m,\n",
       "    \u001b[33mmaterial\u001b[0m=\u001b[32m'unknown'\u001b[0m,\n",
       "    \u001b[33mwhy_famous\u001b[0m=\u001b[32m'It is one of the tallest buildings in the world and offers impressive views from its observation \u001b[0m\n",
       "\u001b[32mdecks.'\u001b[0m\n",
       "\u001b[1m)\u001b[0m\n"
      ]
     },
     "metadata": {},
     "output_type": "display_data"
    },
    {
     "data": {
      "text/html": [
       "<pre style=\"white-space:pre;overflow-x:auto;line-height:normal;font-family:Menlo,'DejaVu Sans Mono',consolas,'Courier New',monospace\"><span style=\"color: #800080; text-decoration-color: #800080; font-weight: bold\">Architect_Building</span><span style=\"font-weight: bold\">(</span>\n",
       "    <span style=\"color: #808000; text-decoration-color: #808000\">architect_name</span>=<span style=\"color: #008000; text-decoration-color: #008000\">'Unknown'</span>,\n",
       "    <span style=\"color: #808000; text-decoration-color: #808000\">famous_building</span>=<span style=\"color: #008000; text-decoration-color: #008000\">'Palace of Versailles'</span>,\n",
       "    <span style=\"color: #808000; text-decoration-color: #808000\">material</span>=<span style=\"color: #008000; text-decoration-color: #008000\">'unknown'</span>,\n",
       "    <span style=\"color: #808000; text-decoration-color: #808000\">why_famous</span>=<span style=\"color: #008000; text-decoration-color: #008000\">'The Palace of Versailles is famous for its opulence and historical significance as the former </span>\n",
       "<span style=\"color: #008000; text-decoration-color: #008000\">residence of Louis XIV.'</span>\n",
       "<span style=\"font-weight: bold\">)</span>\n",
       "</pre>\n"
      ],
      "text/plain": [
       "\u001b[1;35mArchitect_Building\u001b[0m\u001b[1m(\u001b[0m\n",
       "    \u001b[33marchitect_name\u001b[0m=\u001b[32m'Unknown'\u001b[0m,\n",
       "    \u001b[33mfamous_building\u001b[0m=\u001b[32m'Palace of Versailles'\u001b[0m,\n",
       "    \u001b[33mmaterial\u001b[0m=\u001b[32m'unknown'\u001b[0m,\n",
       "    \u001b[33mwhy_famous\u001b[0m=\u001b[32m'The Palace of Versailles is famous for its opulence and historical significance as the former \u001b[0m\n",
       "\u001b[32mresidence of Louis XIV.'\u001b[0m\n",
       "\u001b[1m)\u001b[0m\n"
      ]
     },
     "metadata": {},
     "output_type": "display_data"
    },
    {
     "data": {
      "text/html": [
       "<pre style=\"white-space:pre;overflow-x:auto;line-height:normal;font-family:Menlo,'DejaVu Sans Mono',consolas,'Courier New',monospace\"><span style=\"color: #800080; text-decoration-color: #800080; font-weight: bold\">Architect_Building</span><span style=\"font-weight: bold\">(</span>\n",
       "    <span style=\"color: #808000; text-decoration-color: #808000\">architect_name</span>=<span style=\"color: #008000; text-decoration-color: #008000\">'Ustad Ahmad Lahori'</span>,\n",
       "    <span style=\"color: #808000; text-decoration-color: #808000\">famous_building</span>=<span style=\"color: #008000; text-decoration-color: #008000\">'Taj Mahal'</span>,\n",
       "    <span style=\"color: #808000; text-decoration-color: #808000\">material</span>=<span style=\"color: #008000; text-decoration-color: #008000\">'marble'</span>,\n",
       "    <span style=\"color: #808000; text-decoration-color: #808000\">why_famous</span>=<span style=\"color: #008000; text-decoration-color: #008000\">'It is a UNESCO World Heritage site and one of the new seven wonders of the world.'</span>\n",
       "<span style=\"font-weight: bold\">)</span>\n",
       "</pre>\n"
      ],
      "text/plain": [
       "\u001b[1;35mArchitect_Building\u001b[0m\u001b[1m(\u001b[0m\n",
       "    \u001b[33marchitect_name\u001b[0m=\u001b[32m'Ustad Ahmad Lahori'\u001b[0m,\n",
       "    \u001b[33mfamous_building\u001b[0m=\u001b[32m'Taj Mahal'\u001b[0m,\n",
       "    \u001b[33mmaterial\u001b[0m=\u001b[32m'marble'\u001b[0m,\n",
       "    \u001b[33mwhy_famous\u001b[0m=\u001b[32m'It is a UNESCO World Heritage site and one of the new seven wonders of the world.'\u001b[0m\n",
       "\u001b[1m)\u001b[0m\n"
      ]
     },
     "metadata": {},
     "output_type": "display_data"
    },
    {
     "data": {
      "text/html": [
       "<pre style=\"white-space:pre;overflow-x:auto;line-height:normal;font-family:Menlo,'DejaVu Sans Mono',consolas,'Courier New',monospace\"><span style=\"color: #800080; text-decoration-color: #800080; font-weight: bold\">Architect_Building</span><span style=\"font-weight: bold\">(</span>\n",
       "    <span style=\"color: #808000; text-decoration-color: #808000\">architect_name</span>=<span style=\"color: #008000; text-decoration-color: #008000\">'Sir Charles Barry'</span>,\n",
       "    <span style=\"color: #808000; text-decoration-color: #808000\">famous_building</span>=<span style=\"color: #008000; text-decoration-color: #008000\">'Palace of Westminster'</span>,\n",
       "    <span style=\"color: #808000; text-decoration-color: #808000\">material</span>=<span style=\"color: #008000; text-decoration-color: #008000\">'unknown'</span>,\n",
       "    <span style=\"color: #808000; text-decoration-color: #808000\">why_famous</span>=<span style=\"color: #008000; text-decoration-color: #008000\">'It is famous for its iconic Gothic architecture and the Big Ben clocktower.'</span>\n",
       "<span style=\"font-weight: bold\">)</span>\n",
       "</pre>\n"
      ],
      "text/plain": [
       "\u001b[1;35mArchitect_Building\u001b[0m\u001b[1m(\u001b[0m\n",
       "    \u001b[33marchitect_name\u001b[0m=\u001b[32m'Sir Charles Barry'\u001b[0m,\n",
       "    \u001b[33mfamous_building\u001b[0m=\u001b[32m'Palace of Westminster'\u001b[0m,\n",
       "    \u001b[33mmaterial\u001b[0m=\u001b[32m'unknown'\u001b[0m,\n",
       "    \u001b[33mwhy_famous\u001b[0m=\u001b[32m'It is famous for its iconic Gothic architecture and the Big Ben clocktower.'\u001b[0m\n",
       "\u001b[1m)\u001b[0m\n"
      ]
     },
     "metadata": {},
     "output_type": "display_data"
    },
    {
     "data": {
      "text/html": [
       "<pre style=\"white-space:pre;overflow-x:auto;line-height:normal;font-family:Menlo,'DejaVu Sans Mono',consolas,'Courier New',monospace\"><span style=\"color: #800080; text-decoration-color: #800080; font-weight: bold\">Architect_Building</span><span style=\"font-weight: bold\">(</span>\n",
       "    <span style=\"color: #808000; text-decoration-color: #808000\">architect_name</span>=<span style=\"color: #008000; text-decoration-color: #008000\">'Unknown'</span>,\n",
       "    <span style=\"color: #808000; text-decoration-color: #808000\">famous_building</span>=<span style=\"color: #008000; text-decoration-color: #008000\">'Notre Dame Cathedral'</span>,\n",
       "    <span style=\"color: #808000; text-decoration-color: #808000\">material</span>=<span style=\"color: #008000; text-decoration-color: #008000\">'Stone'</span>,\n",
       "    <span style=\"color: #808000; text-decoration-color: #808000\">why_famous</span>=<span style=\"color: #008000; text-decoration-color: #008000\">'The Notre Dame Cathedral is famous for its Gothic architecture and historical significance.'</span>\n",
       "<span style=\"font-weight: bold\">)</span>\n",
       "</pre>\n"
      ],
      "text/plain": [
       "\u001b[1;35mArchitect_Building\u001b[0m\u001b[1m(\u001b[0m\n",
       "    \u001b[33marchitect_name\u001b[0m=\u001b[32m'Unknown'\u001b[0m,\n",
       "    \u001b[33mfamous_building\u001b[0m=\u001b[32m'Notre Dame Cathedral'\u001b[0m,\n",
       "    \u001b[33mmaterial\u001b[0m=\u001b[32m'Stone'\u001b[0m,\n",
       "    \u001b[33mwhy_famous\u001b[0m=\u001b[32m'The Notre Dame Cathedral is famous for its Gothic architecture and historical significance.'\u001b[0m\n",
       "\u001b[1m)\u001b[0m\n"
      ]
     },
     "metadata": {},
     "output_type": "display_data"
    },
    {
     "data": {
      "text/html": [
       "<pre style=\"white-space:pre;overflow-x:auto;line-height:normal;font-family:Menlo,'DejaVu Sans Mono',consolas,'Courier New',monospace\"><span style=\"color: #800080; text-decoration-color: #800080; font-weight: bold\">Architect_Building</span><span style=\"font-weight: bold\">(</span>\n",
       "    <span style=\"color: #808000; text-decoration-color: #808000\">architect_name</span>=<span style=\"color: #008000; text-decoration-color: #008000\">'Unknown'</span>,\n",
       "    <span style=\"color: #808000; text-decoration-color: #808000\">famous_building</span>=<span style=\"color: #008000; text-decoration-color: #008000\">\"St. Basil's Cathedral\"</span>,\n",
       "    <span style=\"color: #808000; text-decoration-color: #808000\">material</span>=<span style=\"color: #008000; text-decoration-color: #008000\">'unknown'</span>,\n",
       "    <span style=\"color: #808000; text-decoration-color: #808000\">why_famous</span>=<span style=\"color: #008000; text-decoration-color: #008000\">\"St. Basil's Cathedral is famous for its colorful, onion-shaped domes and its fairy-tale </span>\n",
       "<span style=\"color: #008000; text-decoration-color: #008000\">appearance.\"</span>\n",
       "<span style=\"font-weight: bold\">)</span>\n",
       "</pre>\n"
      ],
      "text/plain": [
       "\u001b[1;35mArchitect_Building\u001b[0m\u001b[1m(\u001b[0m\n",
       "    \u001b[33marchitect_name\u001b[0m=\u001b[32m'Unknown'\u001b[0m,\n",
       "    \u001b[33mfamous_building\u001b[0m=\u001b[32m\"St\u001b[0m\u001b[32m. Basil's Cathedral\"\u001b[0m,\n",
       "    \u001b[33mmaterial\u001b[0m=\u001b[32m'unknown'\u001b[0m,\n",
       "    \u001b[33mwhy_famous\u001b[0m=\u001b[32m\"St\u001b[0m\u001b[32m. Basil's Cathedral is famous for its colorful, onion-shaped domes and its fairy-tale \u001b[0m\n",
       "\u001b[32mappearance.\"\u001b[0m\n",
       "\u001b[1m)\u001b[0m\n"
      ]
     },
     "metadata": {},
     "output_type": "display_data"
    },
    {
     "data": {
      "text/html": [
       "<pre style=\"white-space:pre;overflow-x:auto;line-height:normal;font-family:Menlo,'DejaVu Sans Mono',consolas,'Courier New',monospace\"><span style=\"color: #800080; text-decoration-color: #800080; font-weight: bold\">Architect_Building</span><span style=\"font-weight: bold\">(</span>\n",
       "    <span style=\"color: #808000; text-decoration-color: #808000\">architect_name</span>=<span style=\"color: #008000; text-decoration-color: #008000\">'Shreve, Lamb &amp; Harmon'</span>,\n",
       "    <span style=\"color: #808000; text-decoration-color: #808000\">famous_building</span>=<span style=\"color: #008000; text-decoration-color: #008000\">'Empire State Building'</span>,\n",
       "    <span style=\"color: #808000; text-decoration-color: #808000\">material</span>=<span style=\"color: #008000; text-decoration-color: #008000\">'steel'</span>,\n",
       "    <span style=\"color: #808000; text-decoration-color: #808000\">why_famous</span>=<span style=\"color: #008000; text-decoration-color: #008000\">\"It epitomizes New York's ambition and innovation.\"</span>\n",
       "<span style=\"font-weight: bold\">)</span>\n",
       "</pre>\n"
      ],
      "text/plain": [
       "\u001b[1;35mArchitect_Building\u001b[0m\u001b[1m(\u001b[0m\n",
       "    \u001b[33marchitect_name\u001b[0m=\u001b[32m'Shreve, Lamb & Harmon'\u001b[0m,\n",
       "    \u001b[33mfamous_building\u001b[0m=\u001b[32m'Empire State Building'\u001b[0m,\n",
       "    \u001b[33mmaterial\u001b[0m=\u001b[32m'steel'\u001b[0m,\n",
       "    \u001b[33mwhy_famous\u001b[0m=\u001b[32m\"It\u001b[0m\u001b[32m epitomizes New York's ambition and innovation.\"\u001b[0m\n",
       "\u001b[1m)\u001b[0m\n"
      ]
     },
     "metadata": {},
     "output_type": "display_data"
    },
    {
     "data": {
      "text/html": [
       "<pre style=\"white-space:pre;overflow-x:auto;line-height:normal;font-family:Menlo,'DejaVu Sans Mono',consolas,'Courier New',monospace\"><span style=\"color: #800080; text-decoration-color: #800080; font-weight: bold\">Architect_Building</span><span style=\"font-weight: bold\">(</span>\n",
       "    <span style=\"color: #808000; text-decoration-color: #808000\">architect_name</span>=<span style=\"color: #008000; text-decoration-color: #008000\">'Gustave Eiffel'</span>,\n",
       "    <span style=\"color: #808000; text-decoration-color: #808000\">famous_building</span>=<span style=\"color: #008000; text-decoration-color: #008000\">'Eiffel Tower'</span>,\n",
       "    <span style=\"color: #808000; text-decoration-color: #808000\">material</span>=<span style=\"color: #008000; text-decoration-color: #008000\">'Iron'</span>,\n",
       "    <span style=\"color: #808000; text-decoration-color: #808000\">why_famous</span>=<span style=\"color: #008000; text-decoration-color: #008000\">'The Eiffel Tower is famous for being an iconic symbol of Paris and a feat of engineering.'</span>\n",
       "<span style=\"font-weight: bold\">)</span>\n",
       "</pre>\n"
      ],
      "text/plain": [
       "\u001b[1;35mArchitect_Building\u001b[0m\u001b[1m(\u001b[0m\n",
       "    \u001b[33marchitect_name\u001b[0m=\u001b[32m'Gustave Eiffel'\u001b[0m,\n",
       "    \u001b[33mfamous_building\u001b[0m=\u001b[32m'Eiffel Tower'\u001b[0m,\n",
       "    \u001b[33mmaterial\u001b[0m=\u001b[32m'Iron'\u001b[0m,\n",
       "    \u001b[33mwhy_famous\u001b[0m=\u001b[32m'The Eiffel Tower is famous for being an iconic symbol of Paris and a feat of engineering.'\u001b[0m\n",
       "\u001b[1m)\u001b[0m\n"
      ]
     },
     "metadata": {},
     "output_type": "display_data"
    },
    {
     "data": {
      "text/html": [
       "<pre style=\"white-space:pre;overflow-x:auto;line-height:normal;font-family:Menlo,'DejaVu Sans Mono',consolas,'Courier New',monospace\"><span style=\"color: #800080; text-decoration-color: #800080; font-weight: bold\">Architect_Building</span><span style=\"font-weight: bold\">(</span>\n",
       "    <span style=\"color: #808000; text-decoration-color: #808000\">architect_name</span>=<span style=\"color: #008000; text-decoration-color: #008000\">'Adrian Smith'</span>,\n",
       "    <span style=\"color: #808000; text-decoration-color: #808000\">famous_building</span>=<span style=\"color: #008000; text-decoration-color: #008000\">'Burj Khalifa'</span>,\n",
       "    <span style=\"color: #808000; text-decoration-color: #808000\">material</span>=<span style=\"color: #008000; text-decoration-color: #008000\">'unknown'</span>,\n",
       "    <span style=\"color: #808000; text-decoration-color: #808000\">why_famous</span>=<span style=\"color: #008000; text-decoration-color: #008000\">'It is currently the tallest building in the world.'</span>\n",
       "<span style=\"font-weight: bold\">)</span>\n",
       "</pre>\n"
      ],
      "text/plain": [
       "\u001b[1;35mArchitect_Building\u001b[0m\u001b[1m(\u001b[0m\n",
       "    \u001b[33marchitect_name\u001b[0m=\u001b[32m'Adrian Smith'\u001b[0m,\n",
       "    \u001b[33mfamous_building\u001b[0m=\u001b[32m'Burj Khalifa'\u001b[0m,\n",
       "    \u001b[33mmaterial\u001b[0m=\u001b[32m'unknown'\u001b[0m,\n",
       "    \u001b[33mwhy_famous\u001b[0m=\u001b[32m'It is currently the tallest building in the world.'\u001b[0m\n",
       "\u001b[1m)\u001b[0m\n"
      ]
     },
     "metadata": {},
     "output_type": "display_data"
    },
    {
     "data": {
      "text/html": [
       "<pre style=\"white-space:pre;overflow-x:auto;line-height:normal;font-family:Menlo,'DejaVu Sans Mono',consolas,'Courier New',monospace\"><span style=\"color: #800080; text-decoration-color: #800080; font-weight: bold\">Architect_Building</span><span style=\"font-weight: bold\">(</span>\n",
       "    <span style=\"color: #808000; text-decoration-color: #808000\">architect_name</span>=<span style=\"color: #008000; text-decoration-color: #008000\">'Frank Lloyd Wright'</span>,\n",
       "    <span style=\"color: #808000; text-decoration-color: #808000\">famous_building</span>=<span style=\"color: #008000; text-decoration-color: #008000\">'Guggenheim Museum'</span>,\n",
       "    <span style=\"color: #808000; text-decoration-color: #808000\">material</span>=<span style=\"color: #008000; text-decoration-color: #008000\">'unknown'</span>,\n",
       "    <span style=\"color: #808000; text-decoration-color: #808000\">why_famous</span>=<span style=\"color: #008000; text-decoration-color: #008000\">'It is famous for its unique modern design and spiraling interior.'</span>\n",
       "<span style=\"font-weight: bold\">)</span>\n",
       "</pre>\n"
      ],
      "text/plain": [
       "\u001b[1;35mArchitect_Building\u001b[0m\u001b[1m(\u001b[0m\n",
       "    \u001b[33marchitect_name\u001b[0m=\u001b[32m'Frank Lloyd Wright'\u001b[0m,\n",
       "    \u001b[33mfamous_building\u001b[0m=\u001b[32m'Guggenheim Museum'\u001b[0m,\n",
       "    \u001b[33mmaterial\u001b[0m=\u001b[32m'unknown'\u001b[0m,\n",
       "    \u001b[33mwhy_famous\u001b[0m=\u001b[32m'It is famous for its unique modern design and spiraling interior.'\u001b[0m\n",
       "\u001b[1m)\u001b[0m\n"
      ]
     },
     "metadata": {},
     "output_type": "display_data"
    }
   ],
   "source": [
    "import pandas as pd\n",
    "\n",
    "results = []\n",
    "for b_text in building_texts:\n",
    "    result = architect_chain.invoke({\"query\": b_text})\n",
    "    results.append(result)\n",
    "    richprint(result)\n",
    "\n",
    "# Save the resutls to a CSV file using pandas\n",
    "# Convert the pydantic models to python dictionaries\n",
    "building_dicts = [building.dict() for building in results]\n",
    "# Create a DataFrame from the list of dictionaries\n",
    "df = pd.DataFrame(building_dicts)\n",
    "# Save the DataFrame to a CSV file\n",
    "df.to_csv(\"buildings.csv\", index=False)"
   ]
  },
  {
   "cell_type": "markdown",
   "metadata": {},
   "source": [
    "## 6. Vision\n",
    "\n",
    "- Learn how to pass an image and have the model describe it.\n",
    "\n",
    "Let's try with the following image of Le Corbusier's Villa Savoye in Poissy, France by [Valueyou](https://en.wikipedia.org/wiki/User:Valueyou)\n",
    "\n",
    "[<img src=\"https://upload.wikimedia.org/wikipedia/en/3/3c/VillaSavoye.jpg\" alt=\"Le Corbusier's Villa Savoye in Poissy, France\" width=\"300\"/>](https://en.wikipedia.org/wiki/Villa_Savoye#/media/File:VillaSavoye.jpg)\n"
   ]
  },
  {
   "cell_type": "code",
   "execution_count": 33,
   "metadata": {},
   "outputs": [],
   "source": [
    "import base64\n",
    "import httpx\n",
    "\n",
    "image_url = \"https://upload.wikimedia.org/wikipedia/en/3/3c/VillaSavoye.jpg\"\n",
    "image_data = base64.b64encode(httpx.get(image_url).content).decode(\"utf-8\")"
   ]
  },
  {
   "cell_type": "code",
   "execution_count": 34,
   "metadata": {},
   "outputs": [
    {
     "data": {
      "text/markdown": [
       "The image depicts a modern architectural structure characterized by its white exterior, geometric shapes, and a distinctive rounded section on the roof. It is set in a green landscape, with a grassy area surrounding the building and trees in the background. The design reflects minimalist and functionalist architectural principles, typical of the International Style."
      ]
     },
     "metadata": {},
     "output_type": "display_data"
    }
   ],
   "source": [
    "message = HumanMessage(\n",
    "    content=[\n",
    "        {\"type\": \"text\", \"text\": \"what is on this image?\"},\n",
    "        {\n",
    "            \"type\": \"image_url\",\n",
    "            \"image_url\": {\"url\": f\"data:image/jpeg;base64,{image_data}\"},\n",
    "        },\n",
    "    ],\n",
    ")\n",
    "\n",
    "response = model.invoke([message])\n",
    "\n",
    "display_markdown(response.content, raw=True)"
   ]
  },
  {
   "cell_type": "markdown",
   "metadata": {},
   "source": [
    "## 7. Text Summarization\n",
    "\n",
    "- Learn how to summarize using the map-reduce approach.\n",
    "- Learn how to split large texts into chunks and operate on them individually.\n",
    "\n",
    "Map-reduce is mapping each sub-document to an individual summary using an LLM, then reducing or consolidating those summaries into a single global summary.\n",
    "\n",
    "### 7.1. Summarization step by step\n",
    "\n",
    "Four steps:\n",
    "\n",
    "1. Load the text\n",
    "2. Split the text in chunks.\n",
    "3. Create a summary for each chunk.\n",
    "4. Create a final summary from the chunk summaries.\n"
   ]
  },
  {
   "cell_type": "code",
   "execution_count": 35,
   "metadata": {},
   "outputs": [
    {
     "name": "stdout",
     "output_type": "stream",
     "text": [
      "Token count: 11748\n"
     ]
    }
   ],
   "source": [
    "# Step 1: read the text file\n",
    "# text source: Ten Books on Architecture, Vitruvius, https://www.gutenberg.org/files/20239/\n",
    "with open(\"vitruvius_10_books_arch_book1.txt\", \"r\") as file:\n",
    "    text = file.read()\n",
    "\n",
    "# get the token count\n",
    "tokens = encoding.encode(text)\n",
    "token_count = len(tokens)\n",
    "\n",
    "print(f\"Token count: {token_count}\")"
   ]
  },
  {
   "cell_type": "code",
   "execution_count": 36,
   "metadata": {},
   "outputs": [
    {
     "name": "stdout",
     "output_type": "stream",
     "text": [
      "Generated 14 documents.\n"
     ]
    }
   ],
   "source": [
    "# Step 2: Split the text into chunks\n",
    "from langchain_text_splitters import CharacterTextSplitter\n",
    "\n",
    "text_splitter = CharacterTextSplitter.from_tiktoken_encoder(\n",
    "    chunk_size=1000, chunk_overlap=0\n",
    ")\n",
    "\n",
    "split_docs = text_splitter.split_text(text)\n",
    "print(f\"Generated {len(split_docs)} documents.\")"
   ]
  },
  {
   "cell_type": "code",
   "execution_count": 37,
   "metadata": {},
   "outputs": [
    {
     "name": "stdout",
     "output_type": "stream",
     "text": [
      "Processing chunk 1 / 14 ...\n",
      "\"Vitruvius: The Ten Books on Architecture,\" translated by Morris Hicky Morgan and illustrated by Herbert Langford Warren, presents a foundational text on architecture from ancient Rome. In the preface, Vitruvius addresses Emperor Caesar, expressing his initial hesitation to publish his work due to the emperor's significant responsibilities. However, he recognizes Caesar's commitment to public welfare and monumental architecture, prompting him to share his insights. Vitruvius emphasizes the importance of architecture in reflecting the power and authority of the state. He outlines the essential education for architects, advocating for a balance between practical skills and theoretical knowledge. He argues that true authority in architecture comes from a comprehensive understanding of both practice and theory, enabling architects to effectively evaluate and create enduring structures.\n",
      "Processing chunk 2 / 14 ...\n",
      "The text discusses the essential qualities and knowledge an architect should possess, emphasizing the importance of both natural talent and formal education. An architect must be skilled in drawing, geometry, history, and various sciences, including music and medicine, to create significant and lasting works. Knowledge of history is particularly crucial, as it allows architects to explain the cultural and historical significance behind their designs, such as the use of Caryatides in architecture, which symbolize the punishment of the people of Caryae. The text also highlights the importance of understanding the principles of optics and arithmetic for practical aspects of building design and cost calculation. Overall, a well-rounded education enables architects to create meaningful structures that reflect historical narratives and artistic principles.\n",
      "Processing chunk 3 / 14 ...\n",
      "The text emphasizes the importance of philosophy, music, medicine, law, and astronomy in the education of an architect. Philosophy cultivates virtues such as honesty and integrity, essential for ethical practice. A solid understanding of physics is necessary to address practical challenges, such as water flow. Music knowledge is crucial for tuning instruments used in construction and ensuring harmony in theaters. Medical knowledge helps assess the healthiness of sites, while legal principles guide contracts and building regulations. Astronomy aids in understanding orientation and sundials. The author argues that aspiring architects must rigorously study these diverse fields from a young age to truly master the art of architecture.\n",
      "Processing chunk 4 / 14 ...\n",
      "The text discusses the challenges faced by architects in mastering multiple disciplines. It argues that while a liberal education allows for a connection between various studies, it is unrealistic to expect an architect to achieve the same level of expertise in all arts as specialists do in their respective fields. The author references Pytheos, who believed that architects should excel across all disciplines, but contends that this is impractical. Each art consists of both practical skills and theoretical knowledge, with the practical aspects being best handled by specialists. Thus, while architects can possess a broad understanding, they cannot attain perfection in every area, highlighting the limitations of attempting to master multiple disciplines simultaneously.\n",
      "Processing chunk 5 / 14 ...\n",
      "The text discusses the intersection of various disciplines, such as astronomy, music, and geometry, with architecture, emphasizing that while many concepts are shared across these fields, the execution of architectural works requires specialized training. It acknowledges that only a few individuals possess the exceptional talents necessary to master multiple disciplines, distinguishing them as pure mathematicians rather than architects. The author, addressing Caesar, requests leniency regarding grammatical precision in his writing, as he approaches the subject from an architectural perspective rather than as a philosopher or rhetorician. \n",
      "\n",
      "In the second chapter, the fundamental principles of architecture are outlined, which include Order, Arrangement, Eurythmy, Symmetry, Propriety, and Economy. Order pertains to the proportionality and measurement of individual components within a structure, while Arrangement involves the proper placement and aesthetic appeal of these components. The chapter further explains the concepts of groundplan, elevation, and perspective as essential elements of architectural design, emphasizing the importance of reflection and invention in the creative process.\n",
      "Processing chunk 6 / 14 ...\n",
      "Eurythmy embodies beauty and fitness through the harmonious proportions of its components, achieving symmetry where the dimensions of parts relate appropriately to one another and to the whole. Symmetry is defined as the balanced relationship between different elements of a work, exemplified in the human body and architectural structures like temples, where specific standards guide their design. Propriety in style arises from adherence to established principles, informed by tradition, usage, and nature. For instance, the architectural order of temples reflects the characteristics of the deities they honor, with Doric styles for strong gods and Corinthian for delicate ones. Propriety also involves ensuring that the design elements of a building are consistent with its intended use and aesthetic, such as matching elegant interiors with suitable entrances. Additionally, natural factors influence propriety, as the location of sacred sites should promote health and well-being, and the orientation of rooms should maximize appropriate lighting for their functions.\n",
      "Processing chunk 7 / 14 ...\n",
      "The text discusses the principles of economy in architecture, emphasizing the efficient management of materials and costs in construction. Architects should avoid demanding materials that are scarce or expensive, opting for alternatives when necessary. It also outlines the need for different types of dwellings based on social status and location, ensuring that each class's specific needs are met.\n",
      "\n",
      "The text identifies three departments of architecture: building, timepiece making, and machinery construction. Building is further divided into public and private structures, with public buildings categorized into defensive, religious, and utilitarian types. Key considerations for these constructions include durability, convenience, and aesthetic appeal.\n",
      "\n",
      "Additionally, the text highlights the importance of selecting a healthy site for fortified towns, recommending locations that are high, temperate, and free from marshes to avoid health risks. It notes that exposure to certain winds and sunlight can negatively affect both inhabitants and stored goods, advocating for careful site selection to ensure the well-being of the community.\n",
      "Processing chunk 8 / 14 ...\n",
      "The text discusses the effects of heat as a universal solvent that weakens materials and living beings by altering their natural strength and composition. It illustrates this with the example of iron, which can be reshaped when heated and hardens again when cooled. The author notes that heat can weaken individuals, particularly in summer, while cooler temperatures in winter can enhance health. It emphasizes the importance of avoiding areas with hot winds when founding towns, as an imbalance of the four elements (heat, moisture, earth, and air) can lead to health issues. The text also highlights how different animals are adapted to their environments based on the proportions of these elements in their bodies. Ultimately, it concludes that selecting a temperate climate is crucial for ensuring the health of a city's inhabitants.\n",
      "Processing chunk 9 / 14 ...\n",
      "The text emphasizes the importance of selecting healthy sites for building towns or military posts, drawing on ancient practices where livestock were sacrificed to assess the health of the land through liver examination. It highlights a case in Crete where cattle on one side of a river showed signs of health issues due to a specific herb, indicating that local food and water can reflect site health. The text also discusses the suitability of building near marshes with proper drainage, contrasting them with stagnant marshes that produce unhealthy vapors, exemplified by the town of Old Salpia, which was relocated to a healthier site. Finally, it advises on constructing city walls, emphasizing the need for solid foundations and robust structures to ensure the longevity and safety of the city.\n",
      "Processing chunk 10 / 14 ...\n",
      "The text outlines principles for constructing effective city walls and fortifications. Towers should extend beyond the wall to expose attackers to flank fire, and approaches to the wall should be indirect to leave assailants vulnerable. Walls must be thick enough for soldiers to pass without interference and should incorporate charred olive wood ties for durability. Towers should be spaced closely to allow mutual support during assaults, and their design should be round or polygonal to resist damage from battering rams. Ramparts are recommended in areas with high ground, requiring deep ditches and robust foundations. The choice of materials for walls can vary based on local availability, emphasizing practicality over uniformity.\n",
      "Processing chunk 11 / 14 ...\n",
      "The text discusses the importance of careful urban planning in fortifying a town, particularly in relation to wind management for health and comfort. It emphasizes the need to design streets and alleys that minimize exposure to cold, hot, and moist winds, citing the example of Mytilene, which suffers from adverse health effects due to poor wind management. The nature of wind is explained as a result of heat interacting with moisture, illustrated through the operation of eolipiles. The text argues that by blocking winds, a healthier environment can be created, aiding in the recovery of patients suffering from respiratory diseases. Additionally, it addresses the classification of winds, noting that while traditionally four winds were recognized, more recent studies identify eight, with Andronicus of Cyrrhus providing a notable representation of these winds in an octagonal tower in Athens. The text concludes with a brief overview of the directions and names of the winds as established by Andronicus.\n",
      "Processing chunk 12 / 14 ...\n",
      "The text outlines a method for constructing a city layout based on the positioning of a gnomon (shadow tracker) to determine cardinal directions and manage wind flow. It begins with placing a marble amussium at the city's center and erecting a bronze gnomon. By marking the shadow's endpoints at specific times, a circle is drawn, allowing for the identification of north, south, and the division of the circle into eight parts representing the eight principal winds. The design aims to orient streets and buildings away from prevailing winds to minimize their impact on dwellings. The author acknowledges the complexity of wind patterns, referencing Eratosthenes' calculations of the earth's circumference and the variability of winds, while also noting the existence of numerous local wind names.\n",
      "Processing chunk 13 / 14 ...\n",
      "The text discusses the early morning breezes that arise as the sun rises, linking them to the Greek names for winds and the concept of tomorrow. It mentions Eratosthenes and the potential inaccuracies in his measurements of the earth, but asserts that this does not undermine the understanding of wind directions. To aid comprehension, the author provides a method for determining the cardinal directions using a gnomon and compass, detailing how to divide a circle into eight equal sections to represent different winds. The chapter concludes with a transition to the topic of suitable locations for public buildings.\n",
      "Processing chunk 14 / 14 ...\n",
      "The text discusses the selection of building sites for temples, the forum, and public places in a city, emphasizing convenience and utility. For coastal cities, the forum should be near the harbor, while inland cities should have it centrally located. Temples dedicated to major deities like Jupiter, Juno, and Minerva should be on high ground for visibility, while others like Mercury and Venus should be strategically placed in the forum or near the harbor. Etruscan diviners suggest that certain temples, such as those for Venus, Vulcan, and Mars, should be located outside the city to mitigate moral risks and protect against fires and internal conflict. Ceres' temple should also be outside, reserved for sacrifices. The author plans to elaborate on temple construction, materials, proportions, and symmetry in subsequent books.\n"
     ]
    }
   ],
   "source": [
    "# Step 3: Create a chain to process the text\n",
    "map_prompt = ChatPromptTemplate.from_messages(\n",
    "    [(\"human\", \"Write a concise summary of the following:\\\\n\\\\n{context}\")]\n",
    ")\n",
    "# set the model to use lower temperature for results closer to the input\n",
    "model = ChatOpenAI(model=MODEL, temperature=0.2)\n",
    "\n",
    "parser = StrOutputParser()\n",
    "\n",
    "map_chain = map_prompt | model | parser\n",
    "\n",
    "summary_results = []\n",
    "for i, doc in enumerate(split_docs):\n",
    "    print(f\"Processing chunk {i + 1} / {len(split_docs)} ...\")\n",
    "    result = map_chain.invoke({\"context\": doc})\n",
    "    summary_results.append(result)\n",
    "    print(result)"
   ]
  },
  {
   "cell_type": "code",
   "execution_count": 38,
   "metadata": {},
   "outputs": [
    {
     "data": {
      "text/markdown": [
       "The consolidated summary of \"Vitruvius: The Ten Books on Architecture\" highlights several key themes regarding the principles and education of architecture as articulated by Vitruvius:\n",
       "\n",
       "1. **Foundational Importance of Architecture**: Vitruvius emphasizes architecture's role in reflecting the power and authority of the state, advocating for a comprehensive understanding of both practical skills and theoretical knowledge among architects.\n",
       "\n",
       "2. **Education and Multidisciplinary Knowledge**: A well-rounded education is essential for architects, incorporating disciplines such as drawing, geometry, history, philosophy, music, medicine, law, and astronomy. This diverse knowledge base enables architects to create meaningful structures that resonate with cultural and historical significance.\n",
       "\n",
       "3. **Principles of Design**: The text outlines fundamental architectural principles, including Order, Arrangement, Eurythmy, Symmetry, Propriety, and Economy. These principles guide the aesthetic and functional aspects of architectural design, emphasizing the importance of proportionality, harmony, and appropriate material use.\n",
       "\n",
       "4. **Site Selection and Health Considerations**: Vitruvius stresses the significance of selecting healthy sites for construction, considering factors such as climate, wind patterns, and local environmental conditions. He discusses the impact of heat and moisture on health and the importance of avoiding unhealthy locations, such as marshes.\n",
       "\n",
       "5. **Urban Planning and Fortification**: The text addresses the necessity of careful urban planning, particularly in fortifying towns. Vitruvius provides guidelines for constructing effective city walls and managing wind flow to enhance health and comfort for inhabitants.\n",
       "\n",
       "6. **Integration of Natural Elements**: The relationship between architecture and the natural environment is highlighted, with an emphasis on how elements like wind and temperature should influence design decisions. Vitruvius advocates for designs that promote well-being and harmony with nature.\n",
       "\n",
       "7. **Practical Challenges and Limitations**: While acknowledging the interconnectedness of various disciplines, Vitruvius recognizes the impracticality of architects mastering all fields to the same degree as specialists. He argues for a balance between broad knowledge and specialized skills.\n",
       "\n",
       "8. **Cultural and Historical Context**: The text underscores the importance of understanding historical narratives and cultural significance in architectural design, with specific examples illustrating how architectural elements can reflect societal values and traditions.\n",
       "\n",
       "Overall, Vitruvius's work serves as a comprehensive guide to the principles of architecture, emphasizing the need for a multidisciplinary approach, ethical practice, and a deep understanding of both the built environment and its relationship with nature and society."
      ]
     },
     "metadata": {},
     "output_type": "display_data"
    }
   ],
   "source": [
    "# Step 4: Reduce the summaries into a final summary\n",
    "reduce_template = \"\"\"\n",
    "The following is a set of summaries:\n",
    "{docs}\n",
    "Take these and distill it into a final, consolidated summary\n",
    "of the main themes.\n",
    "\"\"\"\n",
    "\n",
    "reduce_prompt = ChatPromptTemplate([(\"human\", reduce_template)])\n",
    "\n",
    "reduce_chain = reduce_prompt | model | parser\n",
    "\n",
    "all_summaries = \"\\n\\n\".join([r for r in summary_results])\n",
    "\n",
    "result = reduce_chain.invoke({\"docs\": all_summaries})\n",
    "\n",
    "display_markdown(result, raw=True)"
   ]
  },
  {
   "cell_type": "markdown",
   "metadata": {},
   "source": [
    "### 7.2. Summarization chain\n"
   ]
  },
  {
   "cell_type": "code",
   "execution_count": 29,
   "metadata": {},
   "outputs": [
    {
     "data": {
      "text/markdown": [
       "Vitruvius' \"The Ten Books on Architecture,\" translated by Morris Hicky Morgan, serves as a comprehensive guide for architects, emphasizing the necessity of combining practical skills with theoretical knowledge. Addressing Emperor Caesar, Vitruvius argues that a successful architect must have a broad education across various disciplines, including drawing, geometry, history, and music, to create meaningful designs and communicate effectively. He discusses the significance of historical references in architecture, such as caryatides, and stresses the importance of philosophy, physics, and music in design.\n",
       "\n",
       "The text outlines fundamental architectural principles: Order, Arrangement, Eurythmy, Symmetry, Propriety, and Economy, which guide the aesthetic and functional aspects of buildings. It emphasizes the need for durability, convenience, and beauty in structures, advocating for careful site selection to ensure health and well-being. Vitruvius also provides guidelines for constructing city walls and streets, considering local materials and climatic conditions to enhance durability and health. He classifies winds and discusses their impact on building orientation, ultimately stressing the importance of strategic site selection for public buildings."
      ]
     },
     "metadata": {},
     "output_type": "display_data"
    }
   ],
   "source": [
    "from langchain.chains.summarize import load_summarize_chain\n",
    "from langchain.document_loaders import PyPDFLoader, TextLoader\n",
    "\n",
    "# load the document\n",
    "file_path = \"vitruvius_10_books_arch_book1.txt\"\n",
    "loader = TextLoader(file_path)\n",
    "docs = loader.load_and_split()\n",
    "\n",
    "chain = load_summarize_chain(model, chain_type=\"map_reduce\")\n",
    "summary = chain.invoke(docs)[\"output_text\"]\n",
    "display_markdown(summary, raw=True)"
   ]
  },
  {
   "cell_type": "markdown",
   "metadata": {},
   "source": [
    "### 7.3. PDF Summarization\n"
   ]
  },
  {
   "cell_type": "code",
   "execution_count": 39,
   "metadata": {},
   "outputs": [
    {
     "name": "stdout",
     "output_type": "stream",
     "text": [
      "130\n"
     ]
    }
   ],
   "source": [
    "from langchain.document_loaders import PyPDFLoader\n",
    "\n",
    "# How Can Large Language Models Help Humans in Design and Manufacturing?\n",
    "url = \"https://arxiv.org/pdf/2307.14377\"\n",
    "\n",
    "\n",
    "loader = PyPDFLoader(url)\n",
    "docs = loader.load_and_split()\n",
    "\n",
    "print(len(docs))"
   ]
  },
  {
   "cell_type": "code",
   "execution_count": null,
   "metadata": {},
   "outputs": [],
   "source": [
    "# let's check what we got\n",
    "print(docs[0])"
   ]
  },
  {
   "cell_type": "code",
   "execution_count": 32,
   "metadata": {},
   "outputs": [
    {
     "data": {
      "text/markdown": [
       "The paper by Makatura et al. examines the integration of Large Language Models (LLMs), specifically GPT-4, into design and manufacturing workflows, highlighting its potential to enhance the Computational Design and Manufacturing (CDaM) process. It discusses GPT-4's capabilities in generating designs for various objects, including furniture and robots, while also addressing its limitations in reasoning, geometric understanding, and spatial accuracy. The study emphasizes the iterative, multi-prompt approach needed for effective design outcomes and the importance of user feedback and verification, especially for novice users. Additionally, it explores GPT-4's role in Design for Manufacturing (DfM) and its integration with Computer-Aided Manufacturing (CAM) and Finite Element Method (FEM) analysis. Despite its promise in automating design tasks, the research underscores the necessity for further development to improve GPT-4's performance and accuracy in complex design scenarios. The document also reviews advancements in machine learning and design methodologies, emphasizing the need for precise instructions in robotic design and the potential of a custom graph-based language for robot construction."
      ]
     },
     "metadata": {},
     "output_type": "display_data"
    }
   ],
   "source": [
    "# summarize the document, takes about 4 minutes with \"gpt-4o-mini\"\n",
    "summary = chain.invoke(docs)[\"output_text\"]\n",
    "display_markdown(summary, raw=True)"
   ]
  },
  {
   "cell_type": "markdown",
   "metadata": {},
   "source": [
    "Further resources:\n",
    "\n",
    "https://www.youtube.com/watch?v=3MoIUXE2eEU&list=PLjy4p-07OYzui0nVZzMgoLBeXjG9Oy3hi\n",
    "\n",
    "https://python.langchain.com/v0.2/docs/tutorials/summarization/\n"
   ]
  },
  {
   "cell_type": "markdown",
   "metadata": {},
   "source": [
    "## 8. Retrieval Augmented Generation (RAG)\n",
    "\n",
    "- Learn how to create a vector store of documents.\n",
    "- Learn how to get the suitable documents from it.\n"
   ]
  },
  {
   "cell_type": "code",
   "execution_count": 40,
   "metadata": {},
   "outputs": [],
   "source": [
    "from langchain.indexes import VectorstoreIndexCreator\n",
    "from langchain_community.vectorstores.inmemory import InMemoryVectorStore\n",
    "\n",
    "# Zurich's Planungs- und Baugesetz (PBG) (Planning and Building Law) document\n",
    "# the PDF url below is temporary and may not work in the future. to get a fresh one, visit the website.\n",
    "# the link to the webpage of the document: http://www.zhlex.zh.ch/Erlass.html?Open&Ordnr=700.1,07.09.1975,01.04.1976,124\n",
    "url = \"https://www.notes.zh.ch/appl/zhlex_r.nsf/WebView/9D92D051F4AD7FCBC1258AE600302683/$File/700.1_7.9.75_124.pdf\"\n",
    "\n",
    "loader = PyPDFLoader(url)\n",
    "index = VectorstoreIndexCreator(\n",
    "    embedding=embeddings_model, vectorstore_cls=InMemoryVectorStore\n",
    ").from_loaders([loader])"
   ]
  },
  {
   "cell_type": "code",
   "execution_count": 41,
   "metadata": {},
   "outputs": [
    {
     "data": {
      "text/markdown": [
       "The maximum allowed facade height can vary depending on local building and zoning regulations. Generally, if the construction thickness of thermal insulation exceeds 20 cm, the permissible facade height may be exceeded by up to 25 cm. Additionally, specific regulations may apply to different types of buildings, such as high-rise buildings, which are defined as having a facade height of more than 25 m. For precise information, it is best to consult the relevant building and zoning ordinances in your area."
      ]
     },
     "metadata": {},
     "output_type": "display_data"
    }
   ],
   "source": [
    "query = \"What is maximum allowed facade height?\"\n",
    "model = ChatOpenAI(model=MODEL, temperature=0.2)\n",
    "result = index.query(query, llm=model)\n",
    "display_markdown(result, raw=True)"
   ]
  },
  {
   "cell_type": "markdown",
   "metadata": {},
   "source": [
    "## 9. Tools and Agents\n",
    "\n",
    "- Learn how to equip an LLM with tools.\n",
    "- How to create an agent that can use tools.\n"
   ]
  },
  {
   "cell_type": "code",
   "execution_count": 42,
   "metadata": {},
   "outputs": [],
   "source": [
    "model = ChatOpenAI(model=MODEL, temperature=0.2)\n",
    "\n",
    "system_template = \"You are a helpful assistant with deep knowledge of Architecture and capable of architectural geometry.\"\n",
    "\n",
    "prompt = ChatPromptTemplate.from_messages(\n",
    "    [(\"system\", system_template), (\"user\", \"{question}\")]\n",
    ")\n",
    "\n",
    "chain = prompt | model | parser"
   ]
  },
  {
   "cell_type": "code",
   "execution_count": 43,
   "metadata": {},
   "outputs": [
    {
     "data": {
      "text/markdown": [
       "To calculate the useful area of a building with a hexagonal plan and a core, we first need to determine the area of the hexagon and then subtract the area of the core.\n",
       "\n",
       "### Step 1: Calculate the Area of the Hexagon\n",
       "\n",
       "The formula for the area \\( A \\) of a regular hexagon with a radius \\( r \\) (which is the distance from the center to a vertex) is given by:\n",
       "\n",
       "\\[\n",
       "A = \\frac{3\\sqrt{3}}{2} r^2\n",
       "\\]\n",
       "\n",
       "Given that the radius \\( r \\) is 20 meters:\n",
       "\n",
       "\\[\n",
       "A = \\frac{3\\sqrt{3}}{2} (20)^2\n",
       "\\]\n",
       "\\[\n",
       "A = \\frac{3\\sqrt{3}}{2} \\times 400\n",
       "\\]\n",
       "\\[\n",
       "A = 600\\sqrt{3} \\approx 1039.23 \\text{ square meters}\n",
       "\\]\n",
       "\n",
       "### Step 2: Calculate the Area of the Core\n",
       "\n",
       "The core is a rectangle with dimensions 9 meters by 6 meters. The area \\( A_{\\text{core}} \\) of the rectangle is calculated as follows:\n",
       "\n",
       "\\[\n",
       "A_{\\text{core}} = \\text{length} \\times \\text{width} = 9 \\times 6 = 54 \\text{ square meters}\n",
       "\\]\n",
       "\n",
       "### Step 3: Calculate the Useful Area\n",
       "\n",
       "Now, we can find the useful area of the building by subtracting the area of the core from the area of the hexagon:\n",
       "\n",
       "\\[\n",
       "A_{\\text{useful}} = A_{\\text{hexagon}} - A_{\\text{core}}\n",
       "\\]\n",
       "\\[\n",
       "A_{\\text{useful}} = 600\\sqrt{3} - 54\n",
       "\\]\n",
       "\\[\n",
       "A_{\\text{useful}} \\approx 1039.23 - 54 \\approx 985.23 \\text{ square meters}\n",
       "\\]\n",
       "\n",
       "### Conclusion\n",
       "\n",
       "The useful area of the building is approximately **985.23 square meters**."
      ]
     },
     "metadata": {},
     "output_type": "display_data"
    }
   ],
   "source": [
    "task = \"Whats the useful area of a building if it has a haxegon plan with radius 20 meter and a core 9x6 meters.\"\n",
    "result = chain.invoke({\"question\": task})\n",
    "display_markdown(result, raw=True)"
   ]
  },
  {
   "cell_type": "code",
   "execution_count": 44,
   "metadata": {},
   "outputs": [
    {
     "data": {
      "text/markdown": [
       "The useful area of the building is 1,732.05 square meters."
      ]
     },
     "metadata": {},
     "output_type": "display_data"
    }
   ],
   "source": [
    "task = \"Whats the useful area of a building if it has a haxegon plan with radius 20 meter and a core 9x6 meters. Give only the number.\"\n",
    "result = chain.invoke({\"question\": task})\n",
    "display_markdown(result, raw=True)"
   ]
  },
  {
   "cell_type": "code",
   "execution_count": 50,
   "metadata": {},
   "outputs": [],
   "source": [
    "from langchain.agents import AgentExecutor, create_tool_calling_agent\n",
    "from langchain.tools import tool\n",
    "\n",
    "\n",
    "@tool\n",
    "def hexagon_area(radius):\n",
    "    \"\"\"Calculate the area of a hexagon.\"\"\"\n",
    "    return 3 * (3**0.5) / 2 * radius**2\n",
    "\n",
    "\n",
    "@tool\n",
    "def rect_area(width, height):\n",
    "    \"\"\"Calculate the area of a rectangle.\"\"\"\n",
    "    return width * height\n",
    "\n",
    "\n",
    "# Define a list of tools\n",
    "tools = [hexagon_area, rect_area]\n",
    "\n",
    "# prompt template with special placeholders for the agent to use\n",
    "prompt = ChatPromptTemplate.from_messages(\n",
    "    [\n",
    "        (\"system\", system_template),\n",
    "        (\"placeholder\", \"{chat_history}\"),\n",
    "        (\"human\", \"{question}\"),\n",
    "        (\"placeholder\", \"{agent_scratchpad}\"),\n",
    "    ]\n",
    ")\n",
    "\n",
    "# create the agent and the executor\n",
    "agent = create_tool_calling_agent(model, tools, prompt)\n",
    "agent_executor = AgentExecutor(agent=agent, tools=tools, verbose=True)"
   ]
  },
  {
   "cell_type": "code",
   "execution_count": 51,
   "metadata": {},
   "outputs": [
    {
     "name": "stdout",
     "output_type": "stream",
     "text": [
      "\n",
      "\n",
      "\u001b[1m> Entering new AgentExecutor chain...\u001b[0m\n",
      "\u001b[32;1m\u001b[1;3m\n",
      "Invoking: `hexagon_area` with `{'radius': 20}`\n",
      "\n",
      "\n",
      "\u001b[0m\u001b[36;1m\u001b[1;3m1039.2304845413264\u001b[0m\u001b[32;1m\u001b[1;3m\n",
      "Invoking: `rect_area` with `{'width': 9, 'height': 6}`\n",
      "\n",
      "\n",
      "\u001b[0m\u001b[33;1m\u001b[1;3m54\u001b[0m\u001b[32;1m\u001b[1;3mThe useful area of the building is 985.2304845413264 square meters.\u001b[0m\n",
      "\n",
      "\u001b[1m> Finished chain.\u001b[0m\n"
     ]
    },
    {
     "data": {
      "text/plain": [
       "{'question': 'Whats the useful area of a building if it has a haxegon plan with radius 20 meter and a core 9x6 meters. Give only the number.',\n",
       " 'output': 'The useful area of the building is 985.2304845413264 square meters.'}"
      ]
     },
     "execution_count": 51,
     "metadata": {},
     "output_type": "execute_result"
    }
   ],
   "source": [
    "task = \"Whats the useful area of a building if it has a hexagon plan with radius 20 meter and a core 9x6 meters. Give only the number.\"\n",
    "agent_executor.invoke({\"question\": task})"
   ]
  },
  {
   "cell_type": "markdown",
   "metadata": {},
   "source": [
    "## 10. Image generation with DALL-E 3\n",
    "\n",
    "Learn how to generate images using the API access to DALLE-3\n"
   ]
  },
  {
   "cell_type": "code",
   "execution_count": null,
   "metadata": {},
   "outputs": [],
   "source": [
    "from openai import OpenAI\n",
    "\n",
    "client = OpenAI()\n",
    "\n",
    "\n",
    "def generate_image(prompt, model=\"dall-e-3\"):\n",
    "    response = client.images.generate(\n",
    "        model=model,\n",
    "        prompt=prompt,\n",
    "        size=\"1024x1024\",\n",
    "        quality=\"standard\",\n",
    "        n=1,\n",
    "    )\n",
    "    return response.data[0].url\n",
    "\n",
    "\n",
    "sample_prompt = \"a Cross-Generational Housing Cooperative Building with Organic, Living Walls viewed from a human perspective\"\n",
    "\n",
    "image_url = generate_image(sample_prompt)\n",
    "\n",
    "print(image_url)\n",
    "# click on the link to see the image"
   ]
  },
  {
   "cell_type": "markdown",
   "metadata": {},
   "source": [
    "## Further resources\n",
    "\n",
    "- [Andrej Karpathy's [1hr Talk] Intro to Large Language Models (YouTube)](https://www.youtube.com/watch?v=zjkBMFhNj_g)\n",
    "- [Jeff Heaton's 2024 Applications of Generative Artificial Intelligence (Washington University)(YouTube)](https://youtube.com/playlist?list=PLjy4p-07OYzui0nVZzMgoLBeXjG9Oy3hi&si=4GB-n8Y7JFHsSfxh)\n"
   ]
  }
 ],
 "metadata": {
  "kernelspec": {
   "display_name": "Python 3",
   "language": "python",
   "name": "python3"
  },
  "language_info": {
   "codemirror_mode": {
    "name": "ipython",
    "version": 3
   },
   "file_extension": ".py",
   "mimetype": "text/x-python",
   "name": "python",
   "nbconvert_exporter": "python",
   "pygments_lexer": "ipython3",
   "version": "3.12.4"
  }
 },
 "nbformat": 4,
 "nbformat_minor": 2
}
